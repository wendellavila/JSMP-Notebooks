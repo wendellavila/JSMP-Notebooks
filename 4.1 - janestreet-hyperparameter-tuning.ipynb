{
 "cells": [
  {
   "cell_type": "markdown",
   "id": "37d77145",
   "metadata": {
    "papermill": {
     "duration": 0.009239,
     "end_time": "2022-07-29T16:59:24.161515",
     "exception": false,
     "start_time": "2022-07-29T16:59:24.152276",
     "status": "completed"
    },
    "tags": []
   },
   "source": [
    "# Jane Street Market Prediction (#4.1)\n",
    "## Hyper-parameter tuning with HyperOpt\n",
    "\n",
    "Notebook Navigation<br>\n",
    "[All](https://www.kaggle.com/wendellavila/janestreet-index/) | [#1](https://www.kaggle.com/wendellavila/janestreet-model-selection/) | [#2.1](https://www.kaggle.com/wendellavila/janestreet-preprocessing-selection) | [#2.2](https://www.kaggle.com/wendellavila/janestreet-data-preprocessing) | [#3](https://www.kaggle.com/wendellavila/janestreet-regularization-selection) | [#4.1](https://www.kaggle.com/wendellavila/janestreet-hyperparameter-tuning) | [#4.2](https://www.kaggle.com/wendellavila/janestreet-hyperparameter-evaluation) | [#5.1](https://www.kaggle.com/wendellavila/janestreet-pca) | [#5.2](https://www.kaggle.com/wendellavila/janestreet-autoencoder) | [#5.3](https://www.kaggle.com/wendellavila/janestreet-dimensionality-reduction-evaluation) |[#6](https://www.kaggle.com/wendellavila/janestreet-ensemble)"
   ]
  },
  {
   "cell_type": "markdown",
   "id": "2db8d9bd",
   "metadata": {
    "papermill": {
     "duration": 0.008214,
     "end_time": "2022-07-29T16:59:24.178357",
     "exception": false,
     "start_time": "2022-07-29T16:59:24.170143",
     "status": "completed"
    },
    "tags": []
   },
   "source": [
    "## Imports"
   ]
  },
  {
   "cell_type": "code",
   "execution_count": 1,
   "id": "7c7e0b85",
   "metadata": {
    "_cell_guid": "b1076dfc-b9ad-4769-8c92-a6c4dae69d19",
    "_uuid": "8f2839f25d086af736a60e9eeb907d3b93b6e0e5",
    "execution": {
     "iopub.execute_input": "2022-07-29T16:59:24.196840Z",
     "iopub.status.busy": "2022-07-29T16:59:24.196290Z",
     "iopub.status.idle": "2022-07-29T16:59:29.686840Z",
     "shell.execute_reply": "2022-07-29T16:59:29.685838Z"
    },
    "papermill": {
     "duration": 5.503222,
     "end_time": "2022-07-29T16:59:29.689542",
     "exception": false,
     "start_time": "2022-07-29T16:59:24.186320",
     "status": "completed"
    },
    "tags": []
   },
   "outputs": [],
   "source": [
    "import os\n",
    "import glob\n",
    "import IPython\n",
    "\n",
    "import numpy as np\n",
    "import pandas as pd\n",
    "import random\n",
    "import matplotlib.pyplot as plt\n",
    "pd.set_option('display.max_columns', 150)\n",
    "%matplotlib inline\n",
    "\n",
    "import tensorflow as tf\n",
    "from tensorflow import keras\n",
    "from keras import layers\n",
    "from keras.models import load_model\n",
    "from keras.callbacks import Callback, ModelCheckpoint, EarlyStopping, ReduceLROnPlateau\n",
    "\n",
    "import sys\n",
    "import time\n",
    "import hyperopt\n",
    "from hyperopt import fmin, tpe, hp, STATUS_OK, Trials, space_eval\n",
    "from hyperopt.pyll.base import scope\n",
    "from hyperopt.pyll.stochastic import sample\n"
   ]
  },
  {
   "cell_type": "markdown",
   "id": "4c1de4a4",
   "metadata": {
    "papermill": {
     "duration": 0.007935,
     "end_time": "2022-07-29T16:59:29.705908",
     "exception": false,
     "start_time": "2022-07-29T16:59:29.697973",
     "status": "completed"
    },
    "tags": []
   },
   "source": [
    "## Reading Data"
   ]
  },
  {
   "cell_type": "code",
   "execution_count": 2,
   "id": "ea2e5794",
   "metadata": {
    "execution": {
     "iopub.execute_input": "2022-07-29T16:59:29.724079Z",
     "iopub.status.busy": "2022-07-29T16:59:29.723469Z",
     "iopub.status.idle": "2022-07-29T16:59:39.334573Z",
     "shell.execute_reply": "2022-07-29T16:59:39.333389Z"
    },
    "papermill": {
     "duration": 9.623215,
     "end_time": "2022-07-29T16:59:39.337508",
     "exception": false,
     "start_time": "2022-07-29T16:59:29.714293",
     "status": "completed"
    },
    "tags": []
   },
   "outputs": [],
   "source": [
    "#data loaded from another notebook\n",
    "#already preprocessed and downsized for faster loading\n",
    "data = pd.read_pickle('../input/janestreet-data-preprocessing/train-ffil-indicator.pkl')\n",
    "features = [c for c in data.columns if 'feature' in c]\n",
    "resp_cols = [col for col in data.columns if 'resp' in col]"
   ]
  },
  {
   "cell_type": "markdown",
   "id": "3c276ca2",
   "metadata": {
    "papermill": {
     "duration": 0.008519,
     "end_time": "2022-07-29T16:59:39.355570",
     "exception": false,
     "start_time": "2022-07-29T16:59:39.347051",
     "status": "completed"
    },
    "tags": []
   },
   "source": [
    "## Misc"
   ]
  },
  {
   "cell_type": "code",
   "execution_count": 3,
   "id": "cc364dd6",
   "metadata": {
    "execution": {
     "iopub.execute_input": "2022-07-29T16:59:39.375302Z",
     "iopub.status.busy": "2022-07-29T16:59:39.374441Z",
     "iopub.status.idle": "2022-07-29T16:59:39.382107Z",
     "shell.execute_reply": "2022-07-29T16:59:39.380856Z"
    },
    "papermill": {
     "duration": 0.020411,
     "end_time": "2022-07-29T16:59:39.384464",
     "exception": false,
     "start_time": "2022-07-29T16:59:39.364053",
     "status": "completed"
    },
    "tags": []
   },
   "outputs": [],
   "source": [
    "# weighted average as per Donate et al.'s formula\n",
    "# https://doi.org/10.1016/j.neucom.2012.02.053\n",
    "def weighted_average(a):\n",
    "    w = []\n",
    "    n = len(a)\n",
    "    for j in range(1, n + 1):\n",
    "        j = 2 if j == 1 else j\n",
    "        w.append(1 / (2**(n + 1 - j)))\n",
    "    return np.average(a, weights = w)"
   ]
  },
  {
   "cell_type": "code",
   "execution_count": 4,
   "id": "d2dc8c39",
   "metadata": {
    "execution": {
     "iopub.execute_input": "2022-07-29T16:59:39.403418Z",
     "iopub.status.busy": "2022-07-29T16:59:39.403129Z",
     "iopub.status.idle": "2022-07-29T16:59:39.757864Z",
     "shell.execute_reply": "2022-07-29T16:59:39.756852Z"
    },
    "papermill": {
     "duration": 0.367196,
     "end_time": "2022-07-29T16:59:39.760669",
     "exception": false,
     "start_time": "2022-07-29T16:59:39.393473",
     "status": "completed"
    },
    "tags": []
   },
   "outputs": [],
   "source": [
    "class ClearTrainingOutput(tf.keras.callbacks.Callback):\n",
    "      def on_train_end(*args, **kwargs):\n",
    "        IPython.display.clear_output(wait = True)"
   ]
  },
  {
   "cell_type": "markdown",
   "id": "39325bb5",
   "metadata": {
    "papermill": {
     "duration": 0.008538,
     "end_time": "2022-07-29T16:59:39.777991",
     "exception": false,
     "start_time": "2022-07-29T16:59:39.769453",
     "status": "completed"
    },
    "tags": []
   },
   "source": [
    "## Utility Score"
   ]
  },
  {
   "cell_type": "code",
   "execution_count": 5,
   "id": "8571faf7",
   "metadata": {
    "execution": {
     "iopub.execute_input": "2022-07-29T16:59:39.796313Z",
     "iopub.status.busy": "2022-07-29T16:59:39.796005Z",
     "iopub.status.idle": "2022-07-29T16:59:39.802629Z",
     "shell.execute_reply": "2022-07-29T16:59:39.801560Z"
    },
    "papermill": {
     "duration": 0.019242,
     "end_time": "2022-07-29T16:59:39.805740",
     "exception": false,
     "start_time": "2022-07-29T16:59:39.786498",
     "status": "completed"
    },
    "tags": []
   },
   "outputs": [],
   "source": [
    "def utility_score(d, w, r, a):\n",
    "    Pi = np.bincount(d, w * r * a)\n",
    "    t = np.sum(Pi) / np.sqrt(np.sum(Pi ** 2)) * np.sqrt(250 / len(Pi))\n",
    "    u = min(max(t, 0), 6) * np.sum(Pi)\n",
    "    return u"
   ]
  },
  {
   "cell_type": "code",
   "execution_count": 6,
   "id": "da6621fb",
   "metadata": {
    "execution": {
     "iopub.execute_input": "2022-07-29T16:59:39.824913Z",
     "iopub.status.busy": "2022-07-29T16:59:39.824607Z",
     "iopub.status.idle": "2022-07-29T16:59:39.960660Z",
     "shell.execute_reply": "2022-07-29T16:59:39.959552Z"
    },
    "papermill": {
     "duration": 0.148716,
     "end_time": "2022-07-29T16:59:39.963251",
     "exception": false,
     "start_time": "2022-07-29T16:59:39.814535",
     "status": "completed"
    },
    "tags": []
   },
   "outputs": [],
   "source": [
    "max_uscore = utility_score(data['date'].values, data['weight'].values,\n",
    "                                data['resp'].values, data['action'].values)"
   ]
  },
  {
   "cell_type": "markdown",
   "id": "5531ca39",
   "metadata": {
    "papermill": {
     "duration": 0.00795,
     "end_time": "2022-07-29T16:59:39.979427",
     "exception": false,
     "start_time": "2022-07-29T16:59:39.971477",
     "status": "completed"
    },
    "tags": []
   },
   "source": [
    "## CV - Purged Group Time Series Split"
   ]
  },
  {
   "cell_type": "code",
   "execution_count": 7,
   "id": "2c1e5d56",
   "metadata": {
    "_kg_hide-input": true,
    "execution": {
     "iopub.execute_input": "2022-07-29T16:59:39.997454Z",
     "iopub.status.busy": "2022-07-29T16:59:39.997120Z",
     "iopub.status.idle": "2022-07-29T16:59:40.158606Z",
     "shell.execute_reply": "2022-07-29T16:59:40.157620Z"
    },
    "jupyter": {
     "source_hidden": true
    },
    "papermill": {
     "duration": 0.1733,
     "end_time": "2022-07-29T16:59:40.160929",
     "exception": false,
     "start_time": "2022-07-29T16:59:39.987629",
     "status": "completed"
    },
    "tags": []
   },
   "outputs": [],
   "source": [
    "import numpy as np\n",
    "from sklearn.model_selection import KFold\n",
    "from sklearn.model_selection._split import _BaseKFold, indexable, _num_samples\n",
    "from sklearn.utils.validation import _deprecate_positional_args\n",
    "\n",
    "# modified code for group gaps; source\n",
    "# https://github.com/getgaurav2/scikit-learn/blob/d4a3af5cc9da3a76f0266932644b884c99724c57/sklearn/model_selection/_split.py#L2243\n",
    "class PurgedGroupTimeSeriesSplit(_BaseKFold):\n",
    "    \"\"\"Time Series cross-validator variant with non-overlapping groups.\n",
    "    Allows for a gap in groups to avoid potentially leaking info from\n",
    "    train into test if the model has windowed or lag features.\n",
    "    Provides train/test indices to split time series data samples\n",
    "    that are observed at fixed time intervals according to a\n",
    "    third-party provided group.\n",
    "    In each split, test indices must be higher than before, and thus shuffling\n",
    "    in cross validator is inappropriate.\n",
    "    This cross-validation object is a variation of :class:`KFold`.\n",
    "    In the kth split, it returns first k folds as train set and the\n",
    "    (k+1)th fold as test set.\n",
    "    The same group will not appear in two different folds (the number of\n",
    "    distinct groups has to be at least equal to the number of folds).\n",
    "    Note that unlike standard cross-validation methods, successive\n",
    "    training sets are supersets of those that come before them.\n",
    "    Read more in the :ref:`User Guide <cross_validation>`.\n",
    "    Parameters\n",
    "    ----------\n",
    "    n_splits : int, default=5\n",
    "        Number of splits. Must be at least 2.\n",
    "    max_train_group_size : int, default=Inf\n",
    "        Maximum group size for a single training set.\n",
    "    group_gap : int, default=None\n",
    "        Gap between train and test\n",
    "    max_test_group_size : int, default=Inf\n",
    "        We discard this number of groups from the end of each train split\n",
    "    \"\"\"\n",
    "\n",
    "    @_deprecate_positional_args\n",
    "    def __init__(self,\n",
    "                 n_splits=5,\n",
    "                 *,\n",
    "                 max_train_group_size=np.inf,\n",
    "                 max_test_group_size=np.inf,\n",
    "                 group_gap=None,\n",
    "                 verbose=False\n",
    "                 ):\n",
    "        super().__init__(n_splits, shuffle=False, random_state=None)\n",
    "        self.max_train_group_size = max_train_group_size\n",
    "        self.group_gap = group_gap\n",
    "        self.max_test_group_size = max_test_group_size\n",
    "        self.verbose = verbose\n",
    "\n",
    "    def split(self, X, y=None, groups=None):\n",
    "        \"\"\"Generate indices to split data into training and test set.\n",
    "        Parameters\n",
    "        ----------\n",
    "        X : array-like of shape (n_samples, n_features)\n",
    "            Training data, where n_samples is the number of samples\n",
    "            and n_features is the number of features.\n",
    "        y : array-like of shape (n_samples,)\n",
    "            Always ignored, exists for compatibility.\n",
    "        groups : array-like of shape (n_samples,)\n",
    "            Group labels for the samples used while splitting the dataset into\n",
    "            train/test set.\n",
    "        Yields\n",
    "        ------\n",
    "        train : ndarray\n",
    "            The training set indices for that split.\n",
    "        test : ndarray\n",
    "            The testing set indices for that split.\n",
    "        \"\"\"\n",
    "        if groups is None:\n",
    "            raise ValueError(\n",
    "                \"The 'groups' parameter should not be None\")\n",
    "        X, y, groups = indexable(X, y, groups)\n",
    "        n_samples = _num_samples(X)\n",
    "        n_splits = self.n_splits\n",
    "        group_gap = self.group_gap\n",
    "        max_test_group_size = self.max_test_group_size\n",
    "        max_train_group_size = self.max_train_group_size\n",
    "        n_folds = n_splits + 1\n",
    "        group_dict = {}\n",
    "        u, ind = np.unique(groups, return_index=True)\n",
    "        unique_groups = u[np.argsort(ind)]\n",
    "        n_samples = _num_samples(X)\n",
    "        n_groups = _num_samples(unique_groups)\n",
    "        for idx in np.arange(n_samples):\n",
    "            if (groups[idx] in group_dict):\n",
    "                group_dict[groups[idx]].append(idx)\n",
    "            else:\n",
    "                group_dict[groups[idx]] = [idx]\n",
    "        if n_folds > n_groups:\n",
    "            raise ValueError(\n",
    "                (\"Cannot have number of folds={0} greater than\"\n",
    "                 \" the number of groups={1}\").format(n_folds,\n",
    "                                                     n_groups))\n",
    "\n",
    "        group_test_size = min(n_groups // n_folds, max_test_group_size)\n",
    "        group_test_starts = range(n_groups - n_splits * group_test_size,\n",
    "                                  n_groups, group_test_size)\n",
    "        for group_test_start in group_test_starts:\n",
    "            train_array = []\n",
    "            test_array = []\n",
    "\n",
    "            group_st = max(0, group_test_start - group_gap - max_train_group_size)\n",
    "            for train_group_idx in unique_groups[group_st:(group_test_start - group_gap)]:\n",
    "                train_array_tmp = group_dict[train_group_idx]\n",
    "                \n",
    "                train_array = np.sort(np.unique(\n",
    "                                      np.concatenate((train_array,\n",
    "                                                      train_array_tmp)),\n",
    "                                      axis=None), axis=None)\n",
    "\n",
    "            train_end = train_array.size\n",
    " \n",
    "            for test_group_idx in unique_groups[group_test_start:\n",
    "                                                group_test_start +\n",
    "                                                group_test_size]:\n",
    "                test_array_tmp = group_dict[test_group_idx]\n",
    "                test_array = np.sort(np.unique(\n",
    "                                              np.concatenate((test_array,\n",
    "                                                              test_array_tmp)),\n",
    "                                     axis=None), axis=None)\n",
    "\n",
    "            test_array  = test_array[group_gap:]\n",
    "            \n",
    "            \n",
    "            if self.verbose > 0:\n",
    "                    pass\n",
    "                    \n",
    "            yield [int(i) for i in train_array], [int(i) for i in test_array]"
   ]
  },
  {
   "cell_type": "markdown",
   "id": "b8579851",
   "metadata": {
    "papermill": {
     "duration": 0.008042,
     "end_time": "2022-07-29T16:59:40.177505",
     "exception": false,
     "start_time": "2022-07-29T16:59:40.169463",
     "status": "completed"
    },
    "tags": []
   },
   "source": [
    "## Building and Training Models"
   ]
  },
  {
   "cell_type": "code",
   "execution_count": 8,
   "id": "9b13713b",
   "metadata": {
    "execution": {
     "iopub.execute_input": "2022-07-29T16:59:40.195193Z",
     "iopub.status.busy": "2022-07-29T16:59:40.194884Z",
     "iopub.status.idle": "2022-07-29T16:59:40.204689Z",
     "shell.execute_reply": "2022-07-29T16:59:40.203806Z"
    },
    "papermill": {
     "duration": 0.021334,
     "end_time": "2022-07-29T16:59:40.206788",
     "exception": false,
     "start_time": "2022-07-29T16:59:40.185454",
     "status": "completed"
    },
    "tags": []
   },
   "outputs": [],
   "source": [
    "def create_autoencoder(num_input,num_output,noise=0.05):\n",
    "    i = layers.Input(num_input)\n",
    "    encoded = layers.BatchNormalization()(i)\n",
    "    encoded = layers.GaussianNoise(noise)(encoded)\n",
    "    encoded = layers.Dense(64,activation='relu')(encoded)\n",
    "    decoded = layers.Dropout(0.2)(encoded)\n",
    "    decoded = layers.Dense(num_input,name='decoded')(decoded)\n",
    "    x = layers.Dense(32,activation='relu')(decoded)\n",
    "    x = layers.BatchNormalization()(x)\n",
    "    x = layers.Dropout(0.2)(x)\n",
    "    x = layers.Dense(num_output,activation='sigmoid',name='label_output')(x)\n",
    "    \n",
    "    encoder = tf.keras.models.Model(inputs=i,outputs=decoded)\n",
    "    autoencoder = tf.keras.models.Model(inputs=i,outputs=[decoded,x])\n",
    "\n",
    "    autoencoder.compile(optimizer=tf.keras.optimizers.Adam(0.001),\n",
    "                        loss={'decoded':'mse','label_output':'binary_crossentropy'})\n",
    "    return autoencoder, encoder"
   ]
  },
  {
   "cell_type": "markdown",
   "id": "61cfb294",
   "metadata": {
    "papermill": {
     "duration": 0.007846,
     "end_time": "2022-07-29T16:59:40.222874",
     "exception": false,
     "start_time": "2022-07-29T16:59:40.215028",
     "status": "completed"
    },
    "tags": []
   },
   "source": [
    "### Cross Validation"
   ]
  },
  {
   "cell_type": "code",
   "execution_count": 9,
   "id": "dce7e0ce",
   "metadata": {
    "execution": {
     "iopub.execute_input": "2022-07-29T16:59:40.240126Z",
     "iopub.status.busy": "2022-07-29T16:59:40.239789Z",
     "iopub.status.idle": "2022-07-29T16:59:40.254804Z",
     "shell.execute_reply": "2022-07-29T16:59:40.253942Z"
    },
    "papermill": {
     "duration": 0.026172,
     "end_time": "2022-07-29T16:59:40.257002",
     "exception": false,
     "start_time": "2022-07-29T16:59:40.230830",
     "status": "completed"
    },
    "tags": []
   },
   "outputs": [],
   "source": [
    "def create_model_hyperopt(params):\n",
    "    \n",
    "    num_layers = params['num_layers']\n",
    "    num_input = len(features)\n",
    "    num_output = 1#len(resp_cols)\n",
    "    hidden_layers = []\n",
    "    \n",
    "    dropout_rates = []\n",
    "    activation = 'swish'\n",
    "    \n",
    "    dropout_rates.append(params[f'{num_layers}-dropout0'])\n",
    "    for i in range (0, num_layers):\n",
    "        hidden_layers.append(params[f'{num_layers}-layer{i}'])\n",
    "        dropout_rates.append(params[f'{num_layers}-dropout{i+1}'])\n",
    "\n",
    "    lrate = params[f'{num_layers}-learning_rate']\n",
    "    \n",
    "    inp = layers.Input(shape = (num_input,), name='X_train')\n",
    "    \n",
    "    x = inp\n",
    "    use_encoder = params[f'{num_layers}-use_encoder']\n",
    "    if use_encoder == True:\n",
    "        autoencoder, encoder = create_autoencoder(num_input,num_output,noise=0.05)\n",
    "        encoder.load_weights('../input/janestreet-autoencoder/encoder.h5')\n",
    "        x = encoder(x)\n",
    "    use_batchnorm = params[f'{num_layers}-use_batchnorm']\n",
    "    if use_batchnorm == True:\n",
    "        x = layers.BatchNormalization()(x)\n",
    "    x = layers.Dropout(dropout_rates[0])(x)\n",
    "    \n",
    "    for i in range(len(hidden_layers)): \n",
    "        x = layers.Dense(hidden_layers[i])(x)\n",
    "        if use_batchnorm == True:\n",
    "            x = layers.BatchNormalization()(x)\n",
    "        x = layers.Activation(activation)(x)\n",
    "        x = layers.Dropout(dropout_rates[i+1])(x)\n",
    "        \n",
    "    x = layers.Dense(num_output)(x)\n",
    "    out = layers.Activation('sigmoid')(x)\n",
    "\n",
    "    model = tf.keras.models.Model(inputs=inp, outputs=out)\n",
    "    \n",
    "    opt = tf.keras.optimizers.Adam(learning_rate = lrate)\n",
    "    model.compile(optimizer = opt,\n",
    "                  loss = tf.keras.losses.BinaryCrossentropy(label_smoothing = params[f'{num_layers}-label_smoothing']),\n",
    "                  metrics = tf.keras.metrics.AUC(name='AUC'))\n",
    "\n",
    "    return model"
   ]
  },
  {
   "cell_type": "code",
   "execution_count": 10,
   "id": "28e39313",
   "metadata": {
    "execution": {
     "iopub.execute_input": "2022-07-29T16:59:40.274622Z",
     "iopub.status.busy": "2022-07-29T16:59:40.274341Z",
     "iopub.status.idle": "2022-07-29T16:59:40.286628Z",
     "shell.execute_reply": "2022-07-29T16:59:40.285781Z"
    },
    "papermill": {
     "duration": 0.023767,
     "end_time": "2022-07-29T16:59:40.288710",
     "exception": false,
     "start_time": "2022-07-29T16:59:40.264943",
     "status": "completed"
    },
    "tags": []
   },
   "outputs": [],
   "source": [
    "def train_model_hyperopt_auc(params):\n",
    "    \n",
    "    print ('Parameters: ', params)\n",
    "    n_folds = 5\n",
    "    cv = PurgedGroupTimeSeriesSplit(\n",
    "        n_splits=n_folds,\n",
    "        max_train_group_size=150,\n",
    "        group_gap=20,\n",
    "        max_test_group_size=60\n",
    "    )\n",
    "    \n",
    "    early_stopping = EarlyStopping(monitor='val_AUC',patience=3,min_delta=0.0001, mode='max',\n",
    "                                    restore_best_weights=True)\n",
    "    num_epochs = 50\n",
    "    num_batch = 4096\n",
    "    scores = []\n",
    "\n",
    "    for fold, (train_index, test_index) in enumerate(cv.split(data, groups=data['date'].values)):\n",
    "        print(f'Fold {fold+1} of {n_folds}')\n",
    "        \n",
    "        train_set = data.iloc[train_index]\n",
    "        test_set = data.iloc[test_index]\n",
    "        \n",
    "        X_train = train_set.loc[:, features].values\n",
    "        X_test = test_set.loc[:, features].values\n",
    "        y_train = np.stack([(train_set[col] > 0).astype('int') for col in resp_cols]).T #Multitarget\n",
    "        y_test = np.stack([(test_set[col] > 0).astype('int') for col in resp_cols]).T #Multitarget\n",
    "\n",
    "        model = create_model_hyperopt(params)\n",
    "        history = model.fit(X_train, y_train,\n",
    "                            batch_size = num_batch,\n",
    "                            epochs = num_epochs,\n",
    "                            verbose = 0,\n",
    "                            validation_data=(X_test, y_test),\n",
    "                            callbacks=[early_stopping])\n",
    "\n",
    "        scores.append(np.max(history.history['val_AUC']))\n",
    "    \n",
    "    return {\n",
    "        'loss': -weighted_average(scores),\n",
    "        #'loss_variance': np.var(scores, ddof=1),\n",
    "        'status': STATUS_OK,\n",
    "        'params': params\n",
    "    }"
   ]
  },
  {
   "cell_type": "code",
   "execution_count": 11,
   "id": "09dbb2e2",
   "metadata": {
    "execution": {
     "iopub.execute_input": "2022-07-29T16:59:40.306102Z",
     "iopub.status.busy": "2022-07-29T16:59:40.305822Z",
     "iopub.status.idle": "2022-07-29T16:59:40.318115Z",
     "shell.execute_reply": "2022-07-29T16:59:40.317185Z"
    },
    "papermill": {
     "duration": 0.023372,
     "end_time": "2022-07-29T16:59:40.320237",
     "exception": false,
     "start_time": "2022-07-29T16:59:40.296865",
     "status": "completed"
    },
    "tags": []
   },
   "outputs": [],
   "source": [
    "def train_model_hyperopt_uscore(params):\n",
    "    \n",
    "    print ('Parameters: ', params)\n",
    "    n_folds = 5\n",
    "    cv = PurgedGroupTimeSeriesSplit(\n",
    "        n_splits=n_folds,\n",
    "        max_train_group_size=150,\n",
    "        group_gap=20,\n",
    "        max_test_group_size=60\n",
    "    )\n",
    "    \n",
    "    predictions = np.zeros(len(data['action']))\n",
    "    \n",
    "    early_stopping = EarlyStopping(monitor='val_AUC',patience=3,min_delta=0.0001, mode='max',\n",
    "                                    restore_best_weights=True)\n",
    "    num_epochs = 50\n",
    "    num_batch = 4096\n",
    "\n",
    "    for fold, (train_index, test_index) in enumerate(cv.split(data, groups=data['date'].values)):\n",
    "        print(f'Fold {fold+1} of {n_folds}')\n",
    "        \n",
    "        train_set = data.iloc[train_index]\n",
    "        test_set = data.iloc[test_index]\n",
    "        \n",
    "        X_train = train_set.loc[:, features].values\n",
    "        X_test = test_set.loc[:, features].values\n",
    "        y_train = train_set.loc[:, 'action'].values\n",
    "        y_test = test_set.loc[:, 'action'].values\n",
    "        #y_train = np.stack([(train_set[col] > 0).astype('int') for col in resp_cols]).T #Multitarget\n",
    "        #y_test = np.stack([(test_set[col] > 0).astype('int') for col in resp_cols]).T #Multitarget\n",
    "\n",
    "        model = create_model_hyperopt(params)\n",
    "        history = model.fit(X_train, y_train,\n",
    "                            batch_size = num_batch,\n",
    "                            epochs = num_epochs,\n",
    "                            verbose = 0,\n",
    "                            validation_data=(X_test, y_test),\n",
    "                            callbacks=[early_stopping])\n",
    "\n",
    "        predictions[test_index] += model.predict(X_test).flatten()\n",
    "    \n",
    "    y_pred = ((predictions > 0.501)*1)\n",
    "    cv_uscore = utility_score(data['date'].values, data['weight'].values, data['resp'].values, y_pred)\n",
    "    print(f'Utility Score: {cv_uscore}')\n",
    "    \n",
    "    return (max_uscore - cv_uscore)"
   ]
  },
  {
   "cell_type": "markdown",
   "id": "0bcd5cc8",
   "metadata": {
    "papermill": {
     "duration": 0.008219,
     "end_time": "2022-07-29T16:59:40.336431",
     "exception": false,
     "start_time": "2022-07-29T16:59:40.328212",
     "status": "completed"
    },
    "tags": []
   },
   "source": [
    "## Search Spaces"
   ]
  },
  {
   "cell_type": "code",
   "execution_count": 12,
   "id": "f04810c4",
   "metadata": {
    "execution": {
     "iopub.execute_input": "2022-07-29T16:59:40.355135Z",
     "iopub.status.busy": "2022-07-29T16:59:40.354687Z",
     "iopub.status.idle": "2022-07-29T16:59:40.359338Z",
     "shell.execute_reply": "2022-07-29T16:59:40.358338Z"
    },
    "papermill": {
     "duration": 0.016584,
     "end_time": "2022-07-29T16:59:40.361876",
     "exception": false,
     "start_time": "2022-07-29T16:59:40.345292",
     "status": "completed"
    },
    "tags": []
   },
   "outputs": [],
   "source": [
    "# # 3 layers - tuning hidden units only\n",
    "\n",
    "# space_topology_3 = {\n",
    "#     'num_layers': 3,\n",
    "#     '3-learning_rate': 0.001,\n",
    "#     '3-layer0': scope.int(hp.quniform('3-layer0',64,1024,16)),\n",
    "#     '3-layer1': scope.int(hp.quniform('3-layer1',64,1024,16)),\n",
    "#     '3-layer2': scope.int(hp.quniform('3-layer2',64,1024,16)),\n",
    "#     '3-dropout0': 0.0,#hp.uniform('3-dropout0', 0.0, 0.2),\n",
    "#     '3-dropout1': 0.0,#hp.uniform('3-dropout1', 0.2, 0.5),\n",
    "#     '3-dropout2': 0.0,#hp.uniform('3-dropout2', 0.2, 0.5),\n",
    "#     '3-dropout3': 0.0,#hp.uniform('3-dropout3', 0.2, 0.5),\n",
    "#     '3-label_smoothing': 0.0,#hp.uniform('3-label_smoothing', 0.0, 0.5),\n",
    "#     '3-use_batchnorm': False,\n",
    "#     '3-use_encoder': False,\n",
    "# }\n",
    "# trials_topology_3 = Trials()\n",
    "# best_topology_3 = fmin(train_model_hyperopt_uscore, space_topology_3, algo=tpe.suggest, max_evals=30, trials=trials_topology_3)"
   ]
  },
  {
   "cell_type": "code",
   "execution_count": 13,
   "id": "63a77990",
   "metadata": {
    "execution": {
     "iopub.execute_input": "2022-07-29T16:59:40.379294Z",
     "iopub.status.busy": "2022-07-29T16:59:40.379029Z",
     "iopub.status.idle": "2022-07-29T16:59:40.383498Z",
     "shell.execute_reply": "2022-07-29T16:59:40.382527Z"
    },
    "papermill": {
     "duration": 0.015395,
     "end_time": "2022-07-29T16:59:40.385632",
     "exception": false,
     "start_time": "2022-07-29T16:59:40.370237",
     "status": "completed"
    },
    "tags": []
   },
   "outputs": [],
   "source": [
    "## 3 layers - tuning regularization only\n",
    "\n",
    "# space_topology_3 = {\n",
    "#     'num_layers': 3,\n",
    "#     '3-learning_rate': 0.001,\n",
    "#     '3-layer0': 560,\n",
    "#     '3-layer1': 592,\n",
    "#     '3-layer2': 1008,\n",
    "#     '3-dropout0': hp.uniform('3-dropout0', 0.0, 0.2),\n",
    "#     '3-dropout1': hp.uniform('3-dropout1', 0.2, 0.5),\n",
    "#     '3-dropout2': hp.uniform('3-dropout2', 0.2, 0.5),\n",
    "#     '3-dropout3': hp.uniform('3-dropout3', 0.2, 0.5),\n",
    "#     '3-label_smoothing': hp.uniform('3-label_smoothing', 0.0, 0.5),\n",
    "#     '3-use_batchnorm': False,\n",
    "#     '3-use_encoder': False,\n",
    "# }\n",
    "# trials_topology_3 = Trials()\n",
    "# best_topology_3 = fmin(train_model_hyperopt_uscore, space_topology_3, algo=tpe.suggest, max_evals=30, trials=trials_topology_3)"
   ]
  },
  {
   "cell_type": "code",
   "execution_count": 14,
   "id": "f9929559",
   "metadata": {
    "execution": {
     "iopub.execute_input": "2022-07-29T16:59:40.402751Z",
     "iopub.status.busy": "2022-07-29T16:59:40.402472Z",
     "iopub.status.idle": "2022-07-29T16:59:40.407664Z",
     "shell.execute_reply": "2022-07-29T16:59:40.406808Z"
    },
    "papermill": {
     "duration": 0.016224,
     "end_time": "2022-07-29T16:59:40.409769",
     "exception": false,
     "start_time": "2022-07-29T16:59:40.393545",
     "status": "completed"
    },
    "tags": []
   },
   "outputs": [],
   "source": [
    "# print(\"\\n3 Layers:\\n\")\n",
    "# print(space_eval(space_topology_3, best_topology_3))\n",
    "# del space_topology_3, best_topology_3, trials_topology_3"
   ]
  },
  {
   "cell_type": "code",
   "execution_count": 15,
   "id": "00b89b8b",
   "metadata": {
    "execution": {
     "iopub.execute_input": "2022-07-29T16:59:40.426636Z",
     "iopub.status.busy": "2022-07-29T16:59:40.426364Z",
     "iopub.status.idle": "2022-07-29T16:59:40.430855Z",
     "shell.execute_reply": "2022-07-29T16:59:40.429922Z"
    },
    "papermill": {
     "duration": 0.015332,
     "end_time": "2022-07-29T16:59:40.432965",
     "exception": false,
     "start_time": "2022-07-29T16:59:40.417633",
     "status": "completed"
    },
    "tags": []
   },
   "outputs": [],
   "source": [
    "# # 4 layers - tuning hidden units only\n",
    "\n",
    "# space_topology_4 = {\n",
    "#     'num_layers': 4,\n",
    "#     '4-learning_rate': 0.001,\n",
    "#     '4-layer0': scope.int(hp.quniform('4-layer0',64,1024,16)),\n",
    "#     '4-layer1': scope.int(hp.quniform('4-layer1',64,1024,16)),\n",
    "#     '4-layer2': scope.int(hp.quniform('4-layer2',64,1024,16)),\n",
    "#     '4-layer3': scope.int(hp.quniform('4-layer3',64,1024,16)),\n",
    "#     '4-dropout0': 0.0,#hp.uniform('4-dropout0', 0.0, 0.2),\n",
    "#     '4-dropout1': 0.0,#hp.uniform('4-dropout1', 0.2, 0.5),\n",
    "#     '4-dropout2': 0.0,#hp.uniform('4-dropout2', 0.2, 0.5),\n",
    "#     '4-dropout3': 0.0,#hp.uniform('4-dropout3', 0.2, 0.5),\n",
    "#     '4-dropout4': 0.0,#hp.uniform('4-dropout4', 0.2, 0.5),\n",
    "#     '4-label_smoothing': 0.0,#hp.uniform('4-label_smoothing', 0.0, 0.5),\n",
    "#     '4-use_batchnorm': False,\n",
    "#     '4-use_encoder': False,\n",
    "# }\n",
    "# trials_topology_4 = Trials()\n",
    "# best_topology_4 = fmin(train_model_hyperopt_uscore, space_topology_4, algo=tpe.suggest, max_evals=15, trials=trials_topology_4)"
   ]
  },
  {
   "cell_type": "code",
   "execution_count": 16,
   "id": "a17b0956",
   "metadata": {
    "execution": {
     "iopub.execute_input": "2022-07-29T16:59:40.450048Z",
     "iopub.status.busy": "2022-07-29T16:59:40.449678Z",
     "iopub.status.idle": "2022-07-29T16:59:40.454157Z",
     "shell.execute_reply": "2022-07-29T16:59:40.453186Z"
    },
    "papermill": {
     "duration": 0.015435,
     "end_time": "2022-07-29T16:59:40.456310",
     "exception": false,
     "start_time": "2022-07-29T16:59:40.440875",
     "status": "completed"
    },
    "tags": []
   },
   "outputs": [],
   "source": [
    "## 4 layers - tuning regularization only\n",
    "\n",
    "# space_topology_4 = {\n",
    "#     'num_layers': 4,\n",
    "#     '4-learning_rate': 0.001,\n",
    "#     '4-layer0': 256,\n",
    "#     '4-layer1': 288,\n",
    "#     '4-layer2': 720,\n",
    "#     '4-layer3': 240,\n",
    "#     '4-dropout0': hp.uniform('4-dropout0', 0.0, 0.2),\n",
    "#     '4-dropout1': hp.uniform('4-dropout1', 0.2, 0.5),\n",
    "#     '4-dropout2': hp.uniform('4-dropout2', 0.2, 0.5),\n",
    "#     '4-dropout3': hp.uniform('4-dropout3', 0.2, 0.5),\n",
    "#     '4-dropout4': hp.uniform('4-dropout4', 0.2, 0.5),\n",
    "#     '4-label_smoothing': hp.uniform('4-label_smoothing', 0.0, 0.5),\n",
    "#     '4-use_batchnorm': False,\n",
    "#     '4-use_encoder': False,\n",
    "# }\n",
    "# trials_topology_4 = Trials()\n",
    "# best_topology_4 = fmin(train_model_hyperopt_uscore, space_topology_4, algo=tpe.suggest, max_evals=15, trials=trials_topology_4)"
   ]
  },
  {
   "cell_type": "code",
   "execution_count": 17,
   "id": "1f8e4d4f",
   "metadata": {
    "execution": {
     "iopub.execute_input": "2022-07-29T16:59:40.473497Z",
     "iopub.status.busy": "2022-07-29T16:59:40.473230Z",
     "iopub.status.idle": "2022-07-29T16:59:40.478449Z",
     "shell.execute_reply": "2022-07-29T16:59:40.477608Z"
    },
    "papermill": {
     "duration": 0.016342,
     "end_time": "2022-07-29T16:59:40.480526",
     "exception": false,
     "start_time": "2022-07-29T16:59:40.464184",
     "status": "completed"
    },
    "tags": []
   },
   "outputs": [],
   "source": [
    "# print(\"\\n4 Layers:\\n\")\n",
    "# print(space_eval(space_topology_4, best_topology_4))\n",
    "# del space_topology_4, best_topology_4, trials_topology_4"
   ]
  },
  {
   "cell_type": "code",
   "execution_count": 18,
   "id": "73dc0ad3",
   "metadata": {
    "execution": {
     "iopub.execute_input": "2022-07-29T16:59:40.497556Z",
     "iopub.status.busy": "2022-07-29T16:59:40.497293Z",
     "iopub.status.idle": "2022-07-29T16:59:40.501776Z",
     "shell.execute_reply": "2022-07-29T16:59:40.500858Z"
    },
    "papermill": {
     "duration": 0.015869,
     "end_time": "2022-07-29T16:59:40.504392",
     "exception": false,
     "start_time": "2022-07-29T16:59:40.488523",
     "status": "completed"
    },
    "tags": []
   },
   "outputs": [],
   "source": [
    "# # 5 layers - tuning hidden units only\n",
    "\n",
    "# space_topology_5 = {\n",
    "#     'num_layers': 5,\n",
    "#     '5-learning_rate': 0.001,\n",
    "#     '5-layer0': scope.int(hp.quniform('5-layer0',64,1024,8)),\n",
    "#     '5-layer1': scope.int(hp.quniform('5-layer1',64,1024,8)),\n",
    "#     '5-layer2': scope.int(hp.quniform('5-layer2',64,1024,8)),\n",
    "#     '5-layer3': scope.int(hp.quniform('5-layer3',64,1024,8)),\n",
    "#     '5-layer4': scope.int(hp.quniform('5-layer4',64,1024,8)),\n",
    "#     '5-dropout0': 0.0,#hp.uniform('5-dropout0', 0.0, 0.2),\n",
    "#     '5-dropout1': 0.0,#hp.uniform('5-dropout1', 0.2, 0.5),\n",
    "#     '5-dropout2': 0.0,#hp.uniform('5-dropout2', 0.2, 0.5),\n",
    "#     '5-dropout3': 0.0,#hp.uniform('5-dropout3', 0.2, 0.5),\n",
    "#     '5-dropout4': 0.0,#hp.uniform('5-dropout4', 0.2, 0.5),\n",
    "#     '5-dropout5': 0.0,#hp.uniform('5-dropout5', 0.2, 0.5),\n",
    "#     '5-label_smoothing': 0.0,#hp.uniform('5-label_smoothing', 0.0, 0.5),\n",
    "#     '5-use_batchnorm': True,\n",
    "#     '5-use_encoder': True,\n",
    "# }\n",
    "# trials_topology_5 = Trials()\n",
    "# best_topology_5 = fmin(train_model_hyperopt_uscore, space_topology_5, algo=tpe.suggest, max_evals=15, trials=trials_topology_5)"
   ]
  },
  {
   "cell_type": "code",
   "execution_count": 19,
   "id": "cd36ae8f",
   "metadata": {
    "execution": {
     "iopub.execute_input": "2022-07-29T16:59:40.521288Z",
     "iopub.status.busy": "2022-07-29T16:59:40.521027Z",
     "iopub.status.idle": "2022-07-29T18:02:09.712499Z",
     "shell.execute_reply": "2022-07-29T18:02:09.711282Z"
    },
    "papermill": {
     "duration": 3749.202416,
     "end_time": "2022-07-29T18:02:09.714674",
     "exception": false,
     "start_time": "2022-07-29T16:59:40.512258",
     "status": "completed"
    },
    "tags": []
   },
   "outputs": [
    {
     "name": "stdout",
     "output_type": "stream",
     "text": [
      "Parameters: \n",
      "{'5-dropout0': 0.1747245172397526, '5-dropout1': 0.46609158038970466, '5-dropout2': 0.42073578763921193, '5-dropout3': 0.23349072903009116, '5-dropout4': 0.413193305598212, '5-dropout5': 0.4562599801134036, '5-label_smoothing': 0.39645093182491814, '5-layer0': 416, '5-layer1': 504, '5-layer2': 256, '5-layer3': 568, '5-layer4': 368, '5-learning_rate': 0.001, '5-use_batchnorm': True, '5-use_encoder': True, 'num_layers': 5}\n",
      "Fold 1 of 5\n",
      "  0%|          | 0/15 [00:04<?, ?trial/s, best loss=?]"
     ]
    },
    {
     "name": "stderr",
     "output_type": "stream",
     "text": [
      "2022-07-29 16:59:47.050876: I tensorflow/stream_executor/cuda/cuda_gpu_executor.cc:937] successful NUMA node read from SysFS had negative value (-1), but there must be at least one NUMA node, so returning NUMA node zero\n",
      "2022-07-29 16:59:47.157646: I tensorflow/stream_executor/cuda/cuda_gpu_executor.cc:937] successful NUMA node read from SysFS had negative value (-1), but there must be at least one NUMA node, so returning NUMA node zero\n",
      "2022-07-29 16:59:47.158429: I tensorflow/stream_executor/cuda/cuda_gpu_executor.cc:937] successful NUMA node read from SysFS had negative value (-1), but there must be at least one NUMA node, so returning NUMA node zero\n",
      "2022-07-29 16:59:47.159566: I tensorflow/core/platform/cpu_feature_guard.cc:142] This TensorFlow binary is optimized with oneAPI Deep Neural Network Library (oneDNN) to use the following CPU instructions in performance-critical operations:  AVX2 AVX512F FMA\n",
      "To enable them in other operations, rebuild TensorFlow with the appropriate compiler flags.\n",
      "2022-07-29 16:59:47.159903: I tensorflow/stream_executor/cuda/cuda_gpu_executor.cc:937] successful NUMA node read from SysFS had negative value (-1), but there must be at least one NUMA node, so returning NUMA node zero\n",
      "2022-07-29 16:59:47.160590: I tensorflow/stream_executor/cuda/cuda_gpu_executor.cc:937] successful NUMA node read from SysFS had negative value (-1), but there must be at least one NUMA node, so returning NUMA node zero\n",
      "2022-07-29 16:59:47.161239: I tensorflow/stream_executor/cuda/cuda_gpu_executor.cc:937] successful NUMA node read from SysFS had negative value (-1), but there must be at least one NUMA node, so returning NUMA node zero\n",
      "2022-07-29 16:59:48.844760: I tensorflow/stream_executor/cuda/cuda_gpu_executor.cc:937] successful NUMA node read from SysFS had negative value (-1), but there must be at least one NUMA node, so returning NUMA node zero\n",
      "2022-07-29 16:59:48.845613: I tensorflow/stream_executor/cuda/cuda_gpu_executor.cc:937] successful NUMA node read from SysFS had negative value (-1), but there must be at least one NUMA node, so returning NUMA node zero\n",
      "2022-07-29 16:59:48.846310: I tensorflow/stream_executor/cuda/cuda_gpu_executor.cc:937] successful NUMA node read from SysFS had negative value (-1), but there must be at least one NUMA node, so returning NUMA node zero\n",
      "2022-07-29 16:59:48.846933: I tensorflow/core/common_runtime/gpu/gpu_device.cc:1510] Created device /job:localhost/replica:0/task:0/device:GPU:0 with 15403 MB memory:  -> device: 0, name: Tesla P100-PCIE-16GB, pci bus id: 0000:00:04.0, compute capability: 6.0\n",
      "2022-07-29 16:59:51.563257: I tensorflow/compiler/mlir/mlir_graph_optimization_pass.cc:185] None of the MLIR Optimization Passes are enabled (registered 2)\n"
     ]
    },
    {
     "name": "stdout",
     "output_type": "stream",
     "text": [
      "Fold 2 of 5\n",
      "Fold 3 of 5\n",
      "Fold 4 of 5\n",
      "Fold 5 of 5\n",
      "Utility Score: 1510.675177442345\n",
      "Parameters: \n",
      "{'5-dropout0': 0.16542228223546193, '5-dropout1': 0.47034933045585237, '5-dropout2': 0.3235030229079465, '5-dropout3': 0.482234995732669, '5-dropout4': 0.39713826728060597, '5-dropout5': 0.41162054551107996, '5-label_smoothing': 0.06758285046886642, '5-layer0': 416, '5-layer1': 504, '5-layer2': 256, '5-layer3': 568, '5-layer4': 368, '5-learning_rate': 0.001, '5-use_batchnorm': True, '5-use_encoder': True, 'num_layers': 5}\n",
      "Fold 1 of 5\n",
      "Fold 2 of 5\n",
      "Fold 3 of 5\n",
      "Fold 4 of 5\n",
      "Fold 5 of 5\n",
      "Utility Score: 1215.0419302761659\n",
      "Parameters: \n",
      "{'5-dropout0': 0.0022263254635593423, '5-dropout1': 0.2417803329100388, '5-dropout2': 0.3949217589967401, '5-dropout3': 0.45549560651758625, '5-dropout4': 0.45087772369705753, '5-dropout5': 0.3477748117739772, '5-label_smoothing': 0.3072349409545522, '5-layer0': 416, '5-layer1': 504, '5-layer2': 256, '5-layer3': 568, '5-layer4': 368, '5-learning_rate': 0.001, '5-use_batchnorm': True, '5-use_encoder': True, 'num_layers': 5}\n",
      "Fold 1 of 5\n",
      "Fold 2 of 5\n",
      "Fold 3 of 5\n",
      "Fold 4 of 5\n",
      "Fold 5 of 5\n",
      "Utility Score: 1016.4628651967846\n",
      "Parameters: \n",
      "{'5-dropout0': 0.08286729298550854, '5-dropout1': 0.2090683380792933, '5-dropout2': 0.30429389751487473, '5-dropout3': 0.24476262045474248, '5-dropout4': 0.3582100245652544, '5-dropout5': 0.3108869142478746, '5-label_smoothing': 0.0002535624883616694, '5-layer0': 416, '5-layer1': 504, '5-layer2': 256, '5-layer3': 568, '5-layer4': 368, '5-learning_rate': 0.001, '5-use_batchnorm': True, '5-use_encoder': True, 'num_layers': 5}\n",
      "Fold 1 of 5\n",
      "Fold 2 of 5\n",
      "Fold 3 of 5\n",
      "Fold 4 of 5\n",
      "Fold 5 of 5\n",
      "Utility Score: 1270.0035433608646\n",
      "Parameters: \n",
      "{'5-dropout0': 0.1222952980856708, '5-dropout1': 0.3480487854866382, '5-dropout2': 0.26417102203475507, '5-dropout3': 0.2541720214954711, '5-dropout4': 0.3239996633574332, '5-dropout5': 0.25693355661569456, '5-label_smoothing': 0.2890342728585898, '5-layer0': 416, '5-layer1': 504, '5-layer2': 256, '5-layer3': 568, '5-layer4': 368, '5-learning_rate': 0.001, '5-use_batchnorm': True, '5-use_encoder': True, 'num_layers': 5}\n",
      "Fold 1 of 5\n",
      "Fold 2 of 5\n",
      "Fold 3 of 5\n",
      "Fold 4 of 5\n",
      "Fold 5 of 5\n",
      "Utility Score: 1069.4885040611784\n",
      "Parameters: \n",
      "{'5-dropout0': 0.027235873773575215, '5-dropout1': 0.4237117428482342, '5-dropout2': 0.36685509231261315, '5-dropout3': 0.40475349815948647, '5-dropout4': 0.2954483780004319, '5-dropout5': 0.30550639269853064, '5-label_smoothing': 0.15161623978789002, '5-layer0': 416, '5-layer1': 504, '5-layer2': 256, '5-layer3': 568, '5-layer4': 368, '5-learning_rate': 0.001, '5-use_batchnorm': True, '5-use_encoder': True, 'num_layers': 5}\n",
      "Fold 1 of 5\n",
      "Fold 2 of 5\n",
      "Fold 3 of 5\n",
      "Fold 4 of 5\n",
      "Fold 5 of 5\n",
      "Utility Score: 1130.7379701017476\n",
      "Parameters: \n",
      "{'5-dropout0': 0.038347663563133794, '5-dropout1': 0.22395300740342922, '5-dropout2': 0.4345515211760812, '5-dropout3': 0.25754112859555045, '5-dropout4': 0.43649850518327626, '5-dropout5': 0.2990869640552292, '5-label_smoothing': 0.009574468065806863, '5-layer0': 416, '5-layer1': 504, '5-layer2': 256, '5-layer3': 568, '5-layer4': 368, '5-learning_rate': 0.001, '5-use_batchnorm': True, '5-use_encoder': True, 'num_layers': 5}\n",
      "Fold 1 of 5\n",
      "Fold 2 of 5\n",
      "Fold 3 of 5\n",
      "Fold 4 of 5\n",
      "Fold 5 of 5\n",
      "Utility Score: 1279.8158418175108\n",
      "Parameters: \n",
      "{'5-dropout0': 0.11988065577969394, '5-dropout1': 0.48952585764267587, '5-dropout2': 0.4443438527373049, '5-dropout3': 0.262491545035295, '5-dropout4': 0.370463816662683, '5-dropout5': 0.3785627197235764, '5-label_smoothing': 0.2789871668557875, '5-layer0': 416, '5-layer1': 504, '5-layer2': 256, '5-layer3': 568, '5-layer4': 368, '5-learning_rate': 0.001, '5-use_batchnorm': True, '5-use_encoder': True, 'num_layers': 5}\n",
      "Fold 1 of 5\n",
      "Fold 2 of 5\n",
      "Fold 3 of 5\n",
      "Fold 4 of 5\n",
      "Fold 5 of 5\n",
      "Utility Score: 917.861680527181\n",
      "Parameters: \n",
      "{'5-dropout0': 0.14244908248167182, '5-dropout1': 0.4371639323496714, '5-dropout2': 0.2659274775545628, '5-dropout3': 0.24715580807580848, '5-dropout4': 0.25600581178305615, '5-dropout5': 0.45356792704464105, '5-label_smoothing': 0.09268843551262529, '5-layer0': 416, '5-layer1': 504, '5-layer2': 256, '5-layer3': 568, '5-layer4': 368, '5-learning_rate': 0.001, '5-use_batchnorm': True, '5-use_encoder': True, 'num_layers': 5}\n",
      "Fold 1 of 5\n",
      "Fold 2 of 5\n",
      "Fold 3 of 5\n",
      "Fold 4 of 5\n",
      "Fold 5 of 5\n",
      "Utility Score: 1404.5927022825108\n",
      "Parameters: \n",
      "{'5-dropout0': 0.1513550349991614, '5-dropout1': 0.27912106253980384, '5-dropout2': 0.4548740768164304, '5-dropout3': 0.30887622172841067, '5-dropout4': 0.3017851148324935, '5-dropout5': 0.3438712901618708, '5-label_smoothing': 0.0717914155304677, '5-layer0': 416, '5-layer1': 504, '5-layer2': 256, '5-layer3': 568, '5-layer4': 368, '5-learning_rate': 0.001, '5-use_batchnorm': True, '5-use_encoder': True, 'num_layers': 5}\n",
      "Fold 1 of 5\n",
      "Fold 2 of 5\n",
      "Fold 3 of 5\n",
      "Fold 4 of 5\n",
      "Fold 5 of 5\n",
      "Utility Score: 1384.3051905051218\n",
      "Parameters: \n",
      "{'5-dropout0': 0.06552341844381733, '5-dropout1': 0.4891759652591761, '5-dropout2': 0.25314736665435683, '5-dropout3': 0.20285563858306543, '5-dropout4': 0.2892346437716227, '5-dropout5': 0.3872961569358935, '5-label_smoothing': 0.05022875839069307, '5-layer0': 416, '5-layer1': 504, '5-layer2': 256, '5-layer3': 568, '5-layer4': 368, '5-learning_rate': 0.001, '5-use_batchnorm': True, '5-use_encoder': True, 'num_layers': 5}\n",
      "Fold 1 of 5\n",
      "Fold 2 of 5\n",
      "Fold 3 of 5\n",
      "Fold 4 of 5\n",
      "Fold 5 of 5\n",
      "Utility Score: 1208.1320852521867\n",
      "Parameters: \n",
      "{'5-dropout0': 0.15114499648105628, '5-dropout1': 0.30423988840133687, '5-dropout2': 0.30134714510238636, '5-dropout3': 0.4442044918747672, '5-dropout4': 0.30248941892551084, '5-dropout5': 0.32258528035798184, '5-label_smoothing': 0.26302087577728633, '5-layer0': 416, '5-layer1': 504, '5-layer2': 256, '5-layer3': 568, '5-layer4': 368, '5-learning_rate': 0.001, '5-use_batchnorm': True, '5-use_encoder': True, 'num_layers': 5}\n",
      "Fold 1 of 5\n",
      "Fold 2 of 5\n",
      "Fold 3 of 5\n",
      "Fold 4 of 5\n",
      "Fold 5 of 5\n",
      "Utility Score: 635.5305989279993\n",
      "Parameters: \n",
      "{'5-dropout0': 0.11256931625450389, '5-dropout1': 0.3498932719315397, '5-dropout2': 0.3023738146242724, '5-dropout3': 0.2211939578999539, '5-dropout4': 0.4631585709896838, '5-dropout5': 0.2708581480668748, '5-label_smoothing': 0.4586579791914256, '5-layer0': 416, '5-layer1': 504, '5-layer2': 256, '5-layer3': 568, '5-layer4': 368, '5-learning_rate': 0.001, '5-use_batchnorm': True, '5-use_encoder': True, 'num_layers': 5}\n",
      "Fold 1 of 5\n",
      "Fold 2 of 5\n",
      "Fold 3 of 5\n",
      "Fold 4 of 5\n",
      "Fold 5 of 5\n",
      "Utility Score: 898.2970818639155\n",
      "Parameters: \n",
      "{'5-dropout0': 0.06902764859106274, '5-dropout1': 0.2733992511140386, '5-dropout2': 0.31676274326831855, '5-dropout3': 0.4153712612512012, '5-dropout4': 0.4645719593122845, '5-dropout5': 0.23768703403987113, '5-label_smoothing': 0.2325082994801702, '5-layer0': 416, '5-layer1': 504, '5-layer2': 256, '5-layer3': 568, '5-layer4': 368, '5-learning_rate': 0.001, '5-use_batchnorm': True, '5-use_encoder': True, 'num_layers': 5}\n",
      "Fold 1 of 5\n",
      "Fold 2 of 5\n",
      "Fold 3 of 5\n",
      "Fold 4 of 5\n",
      "Fold 5 of 5\n",
      "Utility Score: 1266.974008430901\n",
      "Parameters: \n",
      "{'5-dropout0': 0.06392212128520736, '5-dropout1': 0.41169962645631464, '5-dropout2': 0.277844282428735, '5-dropout3': 0.4668058711561869, '5-dropout4': 0.391394242991936, '5-dropout5': 0.4985637741188091, '5-label_smoothing': 0.18959152636147997, '5-layer0': 416, '5-layer1': 504, '5-layer2': 256, '5-layer3': 568, '5-layer4': 368, '5-learning_rate': 0.001, '5-use_batchnorm': True, '5-use_encoder': True, 'num_layers': 5}\n",
      "Fold 1 of 5\n",
      "Fold 2 of 5\n",
      "Fold 3 of 5\n",
      "Fold 4 of 5\n",
      "Fold 5 of 5\n",
      "Utility Score: 1300.4672591194671\n",
      "100%|██████████| 15/15 [1:02:29<00:00, 249.94s/trial, best loss: 196536.78957988092]\n"
     ]
    }
   ],
   "source": [
    "# 5 layers - tuning regularization only\n",
    "space_topology_5 = {\n",
    "    'num_layers': 5,\n",
    "    '5-learning_rate': 0.001,\n",
    "    '5-layer0': 416,\n",
    "    '5-layer1': 504,\n",
    "    '5-layer2': 256,\n",
    "    '5-layer3': 568,\n",
    "    '5-layer4': 368,\n",
    "    '5-dropout0': hp.uniform('5-dropout0', 0.0, 0.2),\n",
    "    '5-dropout1': hp.uniform('5-dropout1', 0.2, 0.5),\n",
    "    '5-dropout2': hp.uniform('5-dropout2', 0.2, 0.5),\n",
    "    '5-dropout3': hp.uniform('5-dropout3', 0.2, 0.5),\n",
    "    '5-dropout4': hp.uniform('5-dropout4', 0.2, 0.5),\n",
    "    '5-dropout5': hp.uniform('5-dropout5', 0.2, 0.5),\n",
    "    '5-label_smoothing': hp.uniform('5-label_smoothing', 0.0, 0.5),\n",
    "    '5-use_batchnorm': True,\n",
    "    '5-use_encoder': True,\n",
    "}\n",
    "trials_topology_5 = Trials()\n",
    "best_topology_5 = fmin(train_model_hyperopt_uscore, space_topology_5, algo=tpe.suggest, max_evals=15, trials=trials_topology_5)"
   ]
  },
  {
   "cell_type": "code",
   "execution_count": 20,
   "id": "032e98d3",
   "metadata": {
    "execution": {
     "iopub.execute_input": "2022-07-29T18:02:09.785746Z",
     "iopub.status.busy": "2022-07-29T18:02:09.785374Z",
     "iopub.status.idle": "2022-07-29T18:02:09.792757Z",
     "shell.execute_reply": "2022-07-29T18:02:09.791837Z"
    },
    "papermill": {
     "duration": 0.04561,
     "end_time": "2022-07-29T18:02:09.795132",
     "exception": false,
     "start_time": "2022-07-29T18:02:09.749522",
     "status": "completed"
    },
    "tags": []
   },
   "outputs": [
    {
     "name": "stdout",
     "output_type": "stream",
     "text": [
      "\n",
      "5 Layers:\n",
      "\n",
      "{'5-dropout0': 0.1747245172397526, '5-dropout1': 0.46609158038970466, '5-dropout2': 0.42073578763921193, '5-dropout3': 0.23349072903009116, '5-dropout4': 0.413193305598212, '5-dropout5': 0.4562599801134036, '5-label_smoothing': 0.39645093182491814, '5-layer0': 416, '5-layer1': 504, '5-layer2': 256, '5-layer3': 568, '5-layer4': 368, '5-learning_rate': 0.001, '5-use_batchnorm': True, '5-use_encoder': True, 'num_layers': 5}\n"
     ]
    }
   ],
   "source": [
    "print(\"\\n5 Layers:\\n\")\n",
    "print(space_eval(space_topology_5, best_topology_5))\n",
    "del space_topology_5, best_topology_5, trials_topology_5"
   ]
  },
  {
   "cell_type": "code",
   "execution_count": 21,
   "id": "e6d8c3e7",
   "metadata": {
    "execution": {
     "iopub.execute_input": "2022-07-29T18:02:09.867782Z",
     "iopub.status.busy": "2022-07-29T18:02:09.866304Z",
     "iopub.status.idle": "2022-07-29T18:44:15.883479Z",
     "shell.execute_reply": "2022-07-29T18:44:15.882517Z"
    },
    "papermill": {
     "duration": 2526.092698,
     "end_time": "2022-07-29T18:44:15.923018",
     "exception": false,
     "start_time": "2022-07-29T18:02:09.830320",
     "status": "completed"
    },
    "tags": []
   },
   "outputs": [
    {
     "name": "stdout",
     "output_type": "stream",
     "text": [
      "Parameters: \n",
      "{'5-dropout0': 0.016200509288124065, '5-dropout1': 0.21823260665158842, '5-dropout2': 0.23217007093887884, '5-dropout3': 0.3060109961056432, '5-dropout4': 0.3735499891495283, '5-dropout5': 0.4221240339272655, '5-label_smoothing': 0.4314995350872904, '5-layer0': 224, '5-layer1': 440, '5-layer2': 688, '5-layer3': 400, '5-layer4': 112, '5-learning_rate': 0.001, '5-use_batchnorm': False, '5-use_encoder': False, 'num_layers': 5}\n",
      "Fold 1 of 5\n",
      "Fold 2 of 5\n",
      "Fold 3 of 5\n",
      "Fold 4 of 5\n",
      "Fold 5 of 5\n",
      "Utility Score: 1410.5913270733429\n",
      "Parameters: \n",
      "{'5-dropout0': 0.09744547850890897, '5-dropout1': 0.3054659796747164, '5-dropout2': 0.4632370655157195, '5-dropout3': 0.3421458214020789, '5-dropout4': 0.3632368821344707, '5-dropout5': 0.324276493237409, '5-label_smoothing': 0.17142181044191201, '5-layer0': 224, '5-layer1': 440, '5-layer2': 688, '5-layer3': 400, '5-layer4': 112, '5-learning_rate': 0.001, '5-use_batchnorm': False, '5-use_encoder': False, 'num_layers': 5}\n",
      "Fold 1 of 5\n",
      "Fold 2 of 5\n",
      "Fold 3 of 5\n",
      "Fold 4 of 5\n",
      "Fold 5 of 5\n",
      "Utility Score: 1262.3686920435416\n",
      "Parameters: \n",
      "{'5-dropout0': 0.008317760422754962, '5-dropout1': 0.3619982962796714, '5-dropout2': 0.4467811668963352, '5-dropout3': 0.32482915846883614, '5-dropout4': 0.2134683613984522, '5-dropout5': 0.4828770540840561, '5-label_smoothing': 0.17727506525026554, '5-layer0': 224, '5-layer1': 440, '5-layer2': 688, '5-layer3': 400, '5-layer4': 112, '5-learning_rate': 0.001, '5-use_batchnorm': False, '5-use_encoder': False, 'num_layers': 5}\n",
      "Fold 1 of 5\n",
      "Fold 2 of 5\n",
      "Fold 3 of 5\n",
      "Fold 4 of 5\n",
      "Fold 5 of 5\n",
      "Utility Score: 1370.2608588904627\n",
      "Parameters: \n",
      "{'5-dropout0': 0.06186642849934912, '5-dropout1': 0.49490369246313703, '5-dropout2': 0.3192938472103468, '5-dropout3': 0.23196028165343263, '5-dropout4': 0.30007589993630035, '5-dropout5': 0.3686023356603366, '5-label_smoothing': 0.016124303962712416, '5-layer0': 224, '5-layer1': 440, '5-layer2': 688, '5-layer3': 400, '5-layer4': 112, '5-learning_rate': 0.001, '5-use_batchnorm': False, '5-use_encoder': False, 'num_layers': 5}\n",
      "Fold 1 of 5\n",
      "Fold 2 of 5\n",
      "Fold 3 of 5\n",
      "Fold 4 of 5\n",
      "Fold 5 of 5\n",
      "Utility Score: 1157.626425228621\n",
      "Parameters: \n",
      "{'5-dropout0': 0.18839156516396913, '5-dropout1': 0.42884264952540274, '5-dropout2': 0.33204549822424545, '5-dropout3': 0.40272920264872514, '5-dropout4': 0.258998731003639, '5-dropout5': 0.47792692777793094, '5-label_smoothing': 0.00928024758140944, '5-layer0': 224, '5-layer1': 440, '5-layer2': 688, '5-layer3': 400, '5-layer4': 112, '5-learning_rate': 0.001, '5-use_batchnorm': False, '5-use_encoder': False, 'num_layers': 5}\n",
      "Fold 1 of 5\n",
      "Fold 2 of 5\n",
      "Fold 3 of 5\n",
      "Fold 4 of 5\n",
      "Fold 5 of 5\n",
      "Utility Score: 1373.5586949956512\n",
      "Parameters: \n",
      "{'5-dropout0': 0.02163069428296338, '5-dropout1': 0.33771242097790155, '5-dropout2': 0.23318927771917036, '5-dropout3': 0.4442618078814645, '5-dropout4': 0.2163122248986892, '5-dropout5': 0.43336483526857006, '5-label_smoothing': 0.13446479480625773, '5-layer0': 224, '5-layer1': 440, '5-layer2': 688, '5-layer3': 400, '5-layer4': 112, '5-learning_rate': 0.001, '5-use_batchnorm': False, '5-use_encoder': False, 'num_layers': 5}\n",
      "Fold 1 of 5\n",
      "Fold 2 of 5\n",
      "Fold 3 of 5\n",
      "Fold 4 of 5\n",
      "Fold 5 of 5\n",
      "Utility Score: 1385.770183406681\n",
      "Parameters: \n",
      "{'5-dropout0': 0.06649304546768574, '5-dropout1': 0.3430717894916606, '5-dropout2': 0.22099607890773526, '5-dropout3': 0.31143586137928764, '5-dropout4': 0.2715474923224535, '5-dropout5': 0.45567292612599725, '5-label_smoothing': 0.32707685143170195, '5-layer0': 224, '5-layer1': 440, '5-layer2': 688, '5-layer3': 400, '5-layer4': 112, '5-learning_rate': 0.001, '5-use_batchnorm': False, '5-use_encoder': False, 'num_layers': 5}\n",
      "Fold 1 of 5\n",
      "Fold 2 of 5\n",
      "Fold 3 of 5\n",
      "Fold 4 of 5\n",
      "Fold 5 of 5\n",
      "Utility Score: 1638.312057817532\n",
      "Parameters: \n",
      "{'5-dropout0': 0.15720167810955332, '5-dropout1': 0.3708581992780424, '5-dropout2': 0.39442052521295584, '5-dropout3': 0.2771036704278523, '5-dropout4': 0.4467114973845159, '5-dropout5': 0.4232954825217997, '5-label_smoothing': 0.3073029802917255, '5-layer0': 224, '5-layer1': 440, '5-layer2': 688, '5-layer3': 400, '5-layer4': 112, '5-learning_rate': 0.001, '5-use_batchnorm': False, '5-use_encoder': False, 'num_layers': 5}\n",
      "Fold 1 of 5\n",
      "Fold 2 of 5\n",
      "Fold 3 of 5\n",
      "Fold 4 of 5\n",
      "Fold 5 of 5\n",
      "Utility Score: 1608.2123852951004\n",
      "Parameters: \n",
      "{'5-dropout0': 0.12450631558430188, '5-dropout1': 0.2113950399884916, '5-dropout2': 0.4728203483167877, '5-dropout3': 0.333422385241152, '5-dropout4': 0.44252799004425714, '5-dropout5': 0.38974633083224486, '5-label_smoothing': 0.4095578968804193, '5-layer0': 224, '5-layer1': 440, '5-layer2': 688, '5-layer3': 400, '5-layer4': 112, '5-learning_rate': 0.001, '5-use_batchnorm': False, '5-use_encoder': False, 'num_layers': 5}\n",
      "Fold 1 of 5\n",
      "Fold 2 of 5\n",
      "Fold 3 of 5\n",
      "Fold 4 of 5\n",
      "Fold 5 of 5\n",
      "Utility Score: 1657.9359494564148\n",
      "Parameters: \n",
      "{'5-dropout0': 0.0384658221414784, '5-dropout1': 0.3713630172398603, '5-dropout2': 0.4522458949287438, '5-dropout3': 0.4404002213547826, '5-dropout4': 0.20424755544729625, '5-dropout5': 0.43797286980905237, '5-label_smoothing': 0.1881616587283278, '5-layer0': 224, '5-layer1': 440, '5-layer2': 688, '5-layer3': 400, '5-layer4': 112, '5-learning_rate': 0.001, '5-use_batchnorm': False, '5-use_encoder': False, 'num_layers': 5}\n",
      "Fold 1 of 5\n",
      "Fold 2 of 5\n",
      "Fold 3 of 5\n",
      "Fold 4 of 5\n",
      "Fold 5 of 5\n",
      "Utility Score: 1693.0026289936548\n",
      "Parameters: \n",
      "{'5-dropout0': 0.06417428213665824, '5-dropout1': 0.3051226975763818, '5-dropout2': 0.20448490391236263, '5-dropout3': 0.39996689684922376, '5-dropout4': 0.38439022627880537, '5-dropout5': 0.4623171363133402, '5-label_smoothing': 0.05259414856549821, '5-layer0': 224, '5-layer1': 440, '5-layer2': 688, '5-layer3': 400, '5-layer4': 112, '5-learning_rate': 0.001, '5-use_batchnorm': False, '5-use_encoder': False, 'num_layers': 5}\n",
      "Fold 1 of 5\n",
      "Fold 2 of 5\n",
      "Fold 3 of 5\n",
      "Fold 4 of 5\n",
      "Fold 5 of 5\n",
      "Utility Score: 1416.9634119952111\n",
      "Parameters: \n",
      "{'5-dropout0': 0.19848220604656386, '5-dropout1': 0.2655825939122927, '5-dropout2': 0.4346647928287559, '5-dropout3': 0.26537667988477737, '5-dropout4': 0.20633685303304328, '5-dropout5': 0.2375255703654209, '5-label_smoothing': 0.3824094032682834, '5-layer0': 224, '5-layer1': 440, '5-layer2': 688, '5-layer3': 400, '5-layer4': 112, '5-learning_rate': 0.001, '5-use_batchnorm': False, '5-use_encoder': False, 'num_layers': 5}\n",
      "Fold 1 of 5\n",
      "Fold 2 of 5\n",
      "Fold 3 of 5\n",
      "Fold 4 of 5\n",
      "Fold 5 of 5\n",
      "Utility Score: 1190.202703918336\n",
      "Parameters: \n",
      "{'5-dropout0': 0.0769516794921183, '5-dropout1': 0.3320222168922674, '5-dropout2': 0.34430668509621876, '5-dropout3': 0.3001289954231042, '5-dropout4': 0.2517502939469105, '5-dropout5': 0.3810269780533772, '5-label_smoothing': 0.10171139731700235, '5-layer0': 224, '5-layer1': 440, '5-layer2': 688, '5-layer3': 400, '5-layer4': 112, '5-learning_rate': 0.001, '5-use_batchnorm': False, '5-use_encoder': False, 'num_layers': 5}\n",
      "Fold 1 of 5\n",
      "Fold 2 of 5\n",
      "Fold 3 of 5\n",
      "Fold 4 of 5\n",
      "Fold 5 of 5\n",
      "Utility Score: 1320.1099870016753\n",
      "Parameters: \n",
      "{'5-dropout0': 0.14338935124207655, '5-dropout1': 0.43106718749103135, '5-dropout2': 0.47232015930777776, '5-dropout3': 0.2851511766383046, '5-dropout4': 0.4800791629527773, '5-dropout5': 0.3460139562662802, '5-label_smoothing': 0.4010294347230657, '5-layer0': 224, '5-layer1': 440, '5-layer2': 688, '5-layer3': 400, '5-layer4': 112, '5-learning_rate': 0.001, '5-use_batchnorm': False, '5-use_encoder': False, 'num_layers': 5}\n",
      "Fold 1 of 5\n",
      "Fold 2 of 5\n",
      "Fold 3 of 5\n",
      "Fold 4 of 5\n",
      "Fold 5 of 5\n",
      "Utility Score: 1260.3215903116286\n",
      "Parameters: \n",
      "{'5-dropout0': 0.12582129812927167, '5-dropout1': 0.2877044787983704, '5-dropout2': 0.35782736914639657, '5-dropout3': 0.3764044922630878, '5-dropout4': 0.46265161499893803, '5-dropout5': 0.23628847924863364, '5-label_smoothing': 0.40756200989988367, '5-layer0': 224, '5-layer1': 440, '5-layer2': 688, '5-layer3': 400, '5-layer4': 112, '5-learning_rate': 0.001, '5-use_batchnorm': False, '5-use_encoder': False, 'num_layers': 5}\n",
      "Fold 1 of 5\n",
      "Fold 2 of 5\n",
      "Fold 3 of 5\n",
      "Fold 4 of 5\n",
      "Fold 5 of 5\n",
      "Utility Score: 1278.8456379020108\n",
      "100%|██████████| 15/15 [42:05<00:00, 168.40s/trial, best loss: 196354.46212832961]\n"
     ]
    }
   ],
   "source": [
    "# 5 layers - tuning regularization only\n",
    "space_topology_5 = {\n",
    "    'num_layers': 5,\n",
    "    '5-learning_rate': 0.001,\n",
    "    '5-layer0': 224,\n",
    "    '5-layer1': 440,\n",
    "    '5-layer2': 688,\n",
    "    '5-layer3': 400,\n",
    "    '5-layer4': 112,\n",
    "    '5-dropout0': hp.uniform('5-dropout0', 0.0, 0.2),\n",
    "    '5-dropout1': hp.uniform('5-dropout1', 0.2, 0.5),\n",
    "    '5-dropout2': hp.uniform('5-dropout2', 0.2, 0.5),\n",
    "    '5-dropout3': hp.uniform('5-dropout3', 0.2, 0.5),\n",
    "    '5-dropout4': hp.uniform('5-dropout4', 0.2, 0.5),\n",
    "    '5-dropout5': hp.uniform('5-dropout5', 0.2, 0.5),\n",
    "    '5-label_smoothing': hp.uniform('5-label_smoothing', 0.0, 0.5),\n",
    "    '5-use_batchnorm': False,\n",
    "    '5-use_encoder': False,\n",
    "}\n",
    "trials_topology_5 = Trials()\n",
    "best_topology_5 = fmin(train_model_hyperopt_uscore, space_topology_5, algo=tpe.suggest, max_evals=15, trials=trials_topology_5)"
   ]
  },
  {
   "cell_type": "code",
   "execution_count": 22,
   "id": "1247438a",
   "metadata": {
    "execution": {
     "iopub.execute_input": "2022-07-29T18:44:16.050525Z",
     "iopub.status.busy": "2022-07-29T18:44:16.049548Z",
     "iopub.status.idle": "2022-07-29T18:44:16.058994Z",
     "shell.execute_reply": "2022-07-29T18:44:16.058074Z"
    },
    "papermill": {
     "duration": 0.076165,
     "end_time": "2022-07-29T18:44:16.061271",
     "exception": false,
     "start_time": "2022-07-29T18:44:15.985106",
     "status": "completed"
    },
    "tags": []
   },
   "outputs": [
    {
     "name": "stdout",
     "output_type": "stream",
     "text": [
      "\n",
      "5 Layers:\n",
      "\n",
      "{'5-dropout0': 0.0384658221414784, '5-dropout1': 0.3713630172398603, '5-dropout2': 0.4522458949287438, '5-dropout3': 0.4404002213547826, '5-dropout4': 0.20424755544729625, '5-dropout5': 0.43797286980905237, '5-label_smoothing': 0.1881616587283278, '5-layer0': 224, '5-layer1': 440, '5-layer2': 688, '5-layer3': 400, '5-layer4': 112, '5-learning_rate': 0.001, '5-use_batchnorm': False, '5-use_encoder': False, 'num_layers': 5}\n"
     ]
    }
   ],
   "source": [
    "print(\"\\n5 Layers:\\n\")\n",
    "print(space_eval(space_topology_5, best_topology_5))\n",
    "del space_topology_5, best_topology_5, trials_topology_5"
   ]
  }
 ],
 "metadata": {
  "kernelspec": {
   "display_name": "Python 3",
   "language": "python",
   "name": "python3"
  },
  "language_info": {
   "codemirror_mode": {
    "name": "ipython",
    "version": 3
   },
   "file_extension": ".py",
   "mimetype": "text/x-python",
   "name": "python",
   "nbconvert_exporter": "python",
   "pygments_lexer": "ipython3",
   "version": "3.7.12"
  },
  "papermill": {
   "default_parameters": {},
   "duration": 6304.324727,
   "end_time": "2022-07-29T18:44:19.460675",
   "environment_variables": {},
   "exception": null,
   "input_path": "__notebook__.ipynb",
   "output_path": "__notebook__.ipynb",
   "parameters": {},
   "start_time": "2022-07-29T16:59:15.135948",
   "version": "2.3.4"
  }
 },
 "nbformat": 4,
 "nbformat_minor": 5
}
