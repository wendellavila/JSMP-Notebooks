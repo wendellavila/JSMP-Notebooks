{
 "cells": [
  {
   "cell_type": "markdown",
   "id": "ad51e9eb",
   "metadata": {
    "papermill": {
     "duration": 0.005368,
     "end_time": "2022-07-19T00:06:28.486525",
     "exception": false,
     "start_time": "2022-07-19T00:06:28.481157",
     "status": "completed"
    },
    "tags": []
   },
   "source": [
    "# Jane Street Market Prediction (#5.1)\n",
    "## Principal Component Analysis\n",
    "\n",
    "Loaded by [#5.3](https://www.kaggle.com/wendellavila/janestreet-dimensionality-reduction)\n",
    "\n",
    "Notebook Navigation<br>\n",
    "[All](https://www.kaggle.com/wendellavila/janestreet-index/) | [#1](https://www.kaggle.com/wendellavila/janestreet-model-selection/) | [#2.1](https://www.kaggle.com/wendellavila/janestreet-preprocessing-selection) | [#2.2](https://www.kaggle.com/wendellavila/janestreet-data-preprocessing) | [#3](https://www.kaggle.com/wendellavila/janestreet-regularization-selection) | [#4.1](https://www.kaggle.com/wendellavila/janestreet-hyperparameter-tuning) | [#4.2](https://www.kaggle.com/wendellavila/janestreet-hyperparameter-evaluation) | [#5.1](https://www.kaggle.com/wendellavila/janestreet-pca) | [#5.2](https://www.kaggle.com/wendellavila/janestreet-autoencoder) | [#5.3](https://www.kaggle.com/wendellavila/janestreet-dimensionality-reduction-evaluation) |[#6](https://www.kaggle.com/wendellavila/janestreet-ensemble)"
   ]
  },
  {
   "cell_type": "markdown",
   "id": "4cb380b7",
   "metadata": {
    "papermill": {
     "duration": 0.003879,
     "end_time": "2022-07-19T00:06:28.494971",
     "exception": false,
     "start_time": "2022-07-19T00:06:28.491092",
     "status": "completed"
    },
    "tags": []
   },
   "source": [
    "## Imports"
   ]
  },
  {
   "cell_type": "code",
   "execution_count": 1,
   "id": "466c0c43",
   "metadata": {
    "_cell_guid": "b1076dfc-b9ad-4769-8c92-a6c4dae69d19",
    "_uuid": "8f2839f25d086af736a60e9eeb907d3b93b6e0e5",
    "execution": {
     "iopub.execute_input": "2022-07-19T00:06:28.505559Z",
     "iopub.status.busy": "2022-07-19T00:06:28.505099Z",
     "iopub.status.idle": "2022-07-19T00:06:40.184186Z",
     "shell.execute_reply": "2022-07-19T00:06:40.182783Z"
    },
    "papermill": {
     "duration": 11.688307,
     "end_time": "2022-07-19T00:06:40.187403",
     "exception": false,
     "start_time": "2022-07-19T00:06:28.499096",
     "status": "completed"
    },
    "tags": []
   },
   "outputs": [],
   "source": [
    "#import janestreet\n",
    "import os\n",
    "import glob\n",
    "import IPython\n",
    "\n",
    "import numpy as np\n",
    "import pandas as pd\n",
    "import random\n",
    "import matplotlib.pyplot as plt\n",
    "import seaborn as sns\n",
    "pd.set_option('display.max_columns', 150)\n",
    "%matplotlib inline\n",
    "\n",
    "import tensorflow as tf\n",
    "from tensorflow import keras\n",
    "from keras import layers\n",
    "from keras.models import load_model\n",
    "from keras.callbacks import Callback, ModelCheckpoint, EarlyStopping, ReduceLROnPlateau\n",
    "\n",
    "import sklearn\n",
    "from sklearn.preprocessing import StandardScaler\n",
    "from sklearn.decomposition import PCA"
   ]
  },
  {
   "cell_type": "markdown",
   "id": "9bf59f8c",
   "metadata": {
    "papermill": {
     "duration": 0.003612,
     "end_time": "2022-07-19T00:06:40.195246",
     "exception": false,
     "start_time": "2022-07-19T00:06:40.191634",
     "status": "completed"
    },
    "tags": []
   },
   "source": [
    "## Loading and scaling data"
   ]
  },
  {
   "cell_type": "code",
   "execution_count": 2,
   "id": "ca0c47d1",
   "metadata": {
    "execution": {
     "iopub.execute_input": "2022-07-19T00:06:40.205618Z",
     "iopub.status.busy": "2022-07-19T00:06:40.204812Z",
     "iopub.status.idle": "2022-07-19T00:06:49.920181Z",
     "shell.execute_reply": "2022-07-19T00:06:49.918772Z"
    },
    "papermill": {
     "duration": 9.724029,
     "end_time": "2022-07-19T00:06:49.923101",
     "exception": false,
     "start_time": "2022-07-19T00:06:40.199072",
     "status": "completed"
    },
    "tags": []
   },
   "outputs": [],
   "source": [
    "#data loaded from another notebook\n",
    "#already preprocessed and downsized for faster loading\n",
    "#https://www.kaggle.com/code/wendellavila/janestreet-data-preprocessing/\n",
    "train_data = pd.read_pickle('../input/janestreet-data-preprocessing/train-mean-indicator.pkl')\n",
    "val_data = pd.read_pickle('../input/janestreet-data-preprocessing/val-mean-indicator.pkl')\n",
    "features = [col for col in train_data.columns if 'feature' in col]\n",
    "resp_cols = [col for col in train_data.columns if 'resp' in col]"
   ]
  },
  {
   "cell_type": "code",
   "execution_count": 3,
   "id": "c0b06540",
   "metadata": {
    "execution": {
     "iopub.execute_input": "2022-07-19T00:06:49.933306Z",
     "iopub.status.busy": "2022-07-19T00:06:49.932813Z",
     "iopub.status.idle": "2022-07-19T00:07:20.048382Z",
     "shell.execute_reply": "2022-07-19T00:07:20.046319Z"
    },
    "papermill": {
     "duration": 30.127215,
     "end_time": "2022-07-19T00:07:20.054440",
     "exception": false,
     "start_time": "2022-07-19T00:06:49.927225",
     "status": "completed"
    },
    "tags": []
   },
   "outputs": [],
   "source": [
    "X_train = train_data.loc[:, features].values\n",
    "X_val = val_data.loc[:, features].values\n",
    "scaler = StandardScaler()\n",
    "X_train = scaler.fit_transform(X_train)\n",
    "X_val = scaler.transform(X_val)\n",
    "del scaler"
   ]
  },
  {
   "cell_type": "markdown",
   "id": "81cb4ddc",
   "metadata": {
    "papermill": {
     "duration": 0.004166,
     "end_time": "2022-07-19T00:07:20.065105",
     "exception": false,
     "start_time": "2022-07-19T00:07:20.060939",
     "status": "completed"
    },
    "tags": []
   },
   "source": [
    "## Misc"
   ]
  },
  {
   "cell_type": "code",
   "execution_count": 4,
   "id": "24213b13",
   "metadata": {
    "execution": {
     "iopub.execute_input": "2022-07-19T00:07:20.076143Z",
     "iopub.status.busy": "2022-07-19T00:07:20.075398Z",
     "iopub.status.idle": "2022-07-19T00:07:20.091593Z",
     "shell.execute_reply": "2022-07-19T00:07:20.090082Z"
    },
    "papermill": {
     "duration": 0.025118,
     "end_time": "2022-07-19T00:07:20.094318",
     "exception": false,
     "start_time": "2022-07-19T00:07:20.069200",
     "status": "completed"
    },
    "tags": []
   },
   "outputs": [],
   "source": [
    "#downsizing dataframe for faster loading\n",
    "def reduce_dtypes(df):\n",
    "    \n",
    "    for col in df.columns:\n",
    "        col_type = df[col].dtype\n",
    "        \n",
    "        if col_type != object:\n",
    "            c_min = df[col].min()\n",
    "            c_max = df[col].max()\n",
    "            if str(col_type)[:3] == 'int':\n",
    "                if c_min > np.iinfo(np.int8).min and c_max < np.iinfo(np.int8).max:\n",
    "                    df[col] = df[col].astype(np.int8)\n",
    "                elif c_min > np.iinfo(np.int16).min and c_max < np.iinfo(np.int16).max:\n",
    "                    df[col] = df[col].astype(np.int16)\n",
    "                elif c_min > np.iinfo(np.int32).min and c_max < np.iinfo(np.int32).max:\n",
    "                    df[col] = df[col].astype(np.int32)\n",
    "                else:\n",
    "                    df[col] = df[col].astype(np.int64)  \n",
    "            else:\n",
    "                if c_min > np.finfo(np.float16).min and c_max < np.finfo(np.float16).max:\n",
    "                    df[col] = df[col].astype(np.float16)\n",
    "                elif c_min > np.finfo(np.float32).min and c_max < np.finfo(np.float32).max:\n",
    "                    df[col] = df[col].astype(np.float32)\n",
    "                else:\n",
    "                    df[col] = df[col].astype(np.float64)\n",
    "        else:\n",
    "            df[col] = df[col].astype('category')\n",
    "            \n",
    "    return df"
   ]
  },
  {
   "cell_type": "markdown",
   "id": "59a142ec",
   "metadata": {
    "papermill": {
     "duration": 0.00422,
     "end_time": "2022-07-19T00:07:20.102834",
     "exception": false,
     "start_time": "2022-07-19T00:07:20.098614",
     "status": "completed"
    },
    "tags": []
   },
   "source": [
    "## PCA Explained Variance Analysis"
   ]
  },
  {
   "cell_type": "code",
   "execution_count": 5,
   "id": "350c2039",
   "metadata": {
    "execution": {
     "iopub.execute_input": "2022-07-19T00:07:20.114235Z",
     "iopub.status.busy": "2022-07-19T00:07:20.113776Z",
     "iopub.status.idle": "2022-07-19T00:08:41.911291Z",
     "shell.execute_reply": "2022-07-19T00:08:41.909586Z"
    },
    "papermill": {
     "duration": 81.812168,
     "end_time": "2022-07-19T00:08:41.919215",
     "exception": false,
     "start_time": "2022-07-19T00:07:20.107047",
     "status": "completed"
    },
    "tags": []
   },
   "outputs": [
    {
     "data": {
      "image/png": "[encoded data removed]",
      "text/plain": [
       "<Figure size 432x288 with 1 Axes>"
      ]
     },
     "metadata": {
      "needs_background": "light"
     },
     "output_type": "display_data"
    }
   ],
   "source": [
    "pca = PCA()\n",
    "comp = pca.fit(X_train)\n",
    "plt.plot(np.cumsum(comp.explained_variance_ratio_))\n",
    "plt.grid()\n",
    "plt.xlabel('Number of Principal Components')\n",
    "plt.ylabel('Explained Variance')\n",
    "sns.despine();\n",
    "plt.savefig('pca-explained_variance_ratio.png', dpi=300, transparent=True)\n",
    "del pca, comp\n",
    "#using 80 components"
   ]
  },
  {
   "cell_type": "markdown",
   "id": "2bca4b81",
   "metadata": {
    "papermill": {
     "duration": 0.004191,
     "end_time": "2022-07-19T00:08:41.927959",
     "exception": false,
     "start_time": "2022-07-19T00:08:41.923768",
     "status": "completed"
    },
    "tags": []
   },
   "source": [
    "## PCA"
   ]
  },
  {
   "cell_type": "code",
   "execution_count": 6,
   "id": "dc5bd84f",
   "metadata": {
    "execution": {
     "iopub.execute_input": "2022-07-19T00:08:41.939672Z",
     "iopub.status.busy": "2022-07-19T00:08:41.938686Z",
     "iopub.status.idle": "2022-07-19T00:10:33.616254Z",
     "shell.execute_reply": "2022-07-19T00:10:33.614583Z"
    },
    "papermill": {
     "duration": 111.688484,
     "end_time": "2022-07-19T00:10:33.620849",
     "exception": false,
     "start_time": "2022-07-19T00:08:41.932365",
     "status": "completed"
    },
    "tags": []
   },
   "outputs": [],
   "source": [
    "n_comp = 80\n",
    "pca = PCA(n_components=n_comp).fit(X_train)\n",
    "train_pca = pd.DataFrame(pca.transform(X_train))\n",
    "val_pca = pd.DataFrame(pca.transform(X_val))"
   ]
  },
  {
   "cell_type": "code",
   "execution_count": 7,
   "id": "db60bf07",
   "metadata": {
    "execution": {
     "iopub.execute_input": "2022-07-19T00:10:33.641718Z",
     "iopub.status.busy": "2022-07-19T00:10:33.640988Z",
     "iopub.status.idle": "2022-07-19T00:11:09.204699Z",
     "shell.execute_reply": "2022-07-19T00:11:09.203292Z"
    },
    "papermill": {
     "duration": 35.578861,
     "end_time": "2022-07-19T00:11:09.208826",
     "exception": false,
     "start_time": "2022-07-19T00:10:33.629965",
     "status": "completed"
    },
    "tags": []
   },
   "outputs": [],
   "source": [
    "pca_col = ['feature_pca_'+str(i+1) for i in range(n_comp)]\n",
    "train_pca.columns = pca_col\n",
    "val_pca.columns = pca_col\n",
    "\n",
    "train_pca['date'] = train_data['date'].values\n",
    "train_pca['weight'] = train_data['weight'].values\n",
    "train_pca['resp'] = train_data['resp'].values\n",
    "train_pca['resp_1'] = train_data['resp_1'].values\n",
    "train_pca['resp_2'] = train_data['resp_2'].values\n",
    "train_pca['resp_3'] = train_data['resp_3'].values\n",
    "train_pca['resp_4'] = train_data['resp_4'].values\n",
    "train_pca['action'] = train_data['action'].values\n",
    "val_pca['date'] = val_data['date'].values\n",
    "val_pca['weight'] = val_data['weight'].values\n",
    "val_pca['resp'] = val_data['resp'].values\n",
    "val_pca['resp_1'] = val_data['resp_1'].values\n",
    "val_pca['resp_2'] = val_data['resp_2'].values\n",
    "val_pca['resp_3'] = val_data['resp_3'].values\n",
    "val_pca['resp_4'] = val_data['resp_4'].values\n",
    "val_pca['action'] = val_data['action'].values\n",
    "\n",
    "train_pca = reduce_dtypes(train_pca)\n",
    "val_pca = reduce_dtypes(val_pca)\n",
    "\n",
    "train_pca.to_pickle(f'train-pca.pkl')\n",
    "val_pca.to_pickle(f'val-pca.pkl')"
   ]
  }
 ],
 "metadata": {
  "kernelspec": {
   "display_name": "Python 3",
   "language": "python",
   "name": "python3"
  },
  "language_info": {
   "codemirror_mode": {
    "name": "ipython",
    "version": 3
   },
   "file_extension": ".py",
   "mimetype": "text/x-python",
   "name": "python",
   "nbconvert_exporter": "python",
   "pygments_lexer": "ipython3",
   "version": "3.7.12"
  },
  "papermill": {
   "default_parameters": {},
   "duration": 294.982362,
   "end_time": "2022-07-19T00:11:12.746436",
   "environment_variables": {},
   "exception": null,
   "input_path": "__notebook__.ipynb",
   "output_path": "__notebook__.ipynb",
   "parameters": {},
   "start_time": "2022-07-19T00:06:17.764074",
   "version": "2.3.4"
  }
 },
 "nbformat": 4,
 "nbformat_minor": 5
}
