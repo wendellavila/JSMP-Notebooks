{
 "cells": [
  {
   "cell_type": "markdown",
   "id": "a67d5479",
   "metadata": {
    "_cell_guid": "b1076dfc-b9ad-4769-8c92-a6c4dae69d19",
    "_uuid": "8f2839f25d086af736a60e9eeb907d3b93b6e0e5",
    "papermill": {
     "duration": 0.002801,
     "end_time": "2022-08-02T01:27:39.946881",
     "exception": false,
     "start_time": "2022-08-02T01:27:39.944080",
     "status": "completed"
    },
    "tags": []
   },
   "source": [
    "# Jane Street Market Prediction (#0)\n",
    "## Index\n",
    "\n",
    "Notebook Navigation<br>\n",
    "[All](https://www.kaggle.com/wendellavila/janestreet-index/) | [#1](https://www.kaggle.com/wendellavila/janestreet-model-selection/) | [#2.1](https://www.kaggle.com/wendellavila/janestreet-preprocessing-selection) | [#2.2](https://www.kaggle.com/wendellavila/janestreet-data-preprocessing) | [#3](https://www.kaggle.com/wendellavila/janestreet-regularization-selection) | [#4.1](https://www.kaggle.com/wendellavila/janestreet-hyperparameter-tuning) | [#4.2](https://www.kaggle.com/wendellavila/janestreet-hyperparameter-evaluation) | [#5.1](https://www.kaggle.com/wendellavila/janestreet-pca) | [#5.2](https://www.kaggle.com/wendellavila/janestreet-autoencoder) | [#5.3](https://www.kaggle.com/wendellavila/janestreet-dimensionality-reduction-evaluation) |[#6](https://www.kaggle.com/wendellavila/janestreet-ensemble)"
   ]
  },
  {
   "cell_type": "markdown",
   "id": "5484709d",
   "metadata": {
    "papermill": {
     "duration": 0.001382,
     "end_time": "2022-08-02T01:27:39.950220",
     "exception": false,
     "start_time": "2022-08-02T01:27:39.948838",
     "status": "completed"
    },
    "tags": []
   },
   "source": [
    "### Table of Contents"
   ]
  },
  {
   "cell_type": "markdown",
   "id": "23753887",
   "metadata": {
    "papermill": {
     "duration": 0.001319,
     "end_time": "2022-08-02T01:27:39.953125",
     "exception": false,
     "start_time": "2022-08-02T01:27:39.951806",
     "status": "completed"
    },
    "tags": []
   },
   "source": [
    "## 1. Model Selection\n",
    "### 1.1. [Model Selection](https://www.kaggle.com/wendellavila/janestreet-model-selection/)\n",
    "## 2. Data Preprocessing\n",
    "### 2.1. [Preprocessing Selection](https://www.kaggle.com/wendellavila/janestreet-preprocessing-selection/)\n",
    "### 2.2. [Preprocessing](https://www.kaggle.com/wendellavila/janestreet-data-preprocessing/)\n",
    "## 3. Regularization\n",
    "### 3.1. [Regularization Selection](https://www.kaggle.com/wendellavila/janestreet-regularization-selection/)\n",
    "## 4. Hyper-parameter Tuning\n",
    "### 4.1. [Hyper-parameter Tuning with Hyperopt](https://www.kaggle.com/wendellavila/janestreet-hyperparameter-tuning/)\n",
    "### 4.2. [Hyper-parameter Evaluation](https://www.kaggle.com/wendellavila/janestreet-hyperparameter-evaluation/)\n",
    "## 5. Dimensionality Reduction\n",
    "### 5.1. [Principal Component Analysis](https://www.kaggle.com/wendellavila/janestreet-pca)\n",
    "### 5.2. [Deep Autoencoder](https://www.kaggle.com/wendellavila/janestreet-autoencoder)\n",
    "### 5.3. [Dimensionality Reduction Evaluation](https://www.kaggle.com/wendellavila/janestreet-dimensionality-reduction-evaluation)\n",
    "## 6. Ensemble\n",
    "### 6.1. [Bagging](https://www.kaggle.com/wendellavila/janestreet-ensemble)\n"
   ]
  }
 ],
 "metadata": {
  "kernelspec": {
   "display_name": "Python 3",
   "language": "python",
   "name": "python3"
  },
  "language_info": {
   "codemirror_mode": {
    "name": "ipython",
    "version": 3
   },
   "file_extension": ".py",
   "mimetype": "text/x-python",
   "name": "python",
   "nbconvert_exporter": "python",
   "pygments_lexer": "ipython3",
   "version": "3.7.12"
  },
  "papermill": {
   "default_parameters": {},
   "duration": 10.286679,
   "end_time": "2022-08-02T01:27:40.678222",
   "environment_variables": {},
   "exception": null,
   "input_path": "__notebook__.ipynb",
   "output_path": "__notebook__.ipynb",
   "parameters": {},
   "start_time": "2022-08-02T01:27:30.391543",
   "version": "2.3.4"
  }
 },
 "nbformat": 4,
 "nbformat_minor": 5
}
