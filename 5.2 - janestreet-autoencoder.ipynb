{
 "cells": [
  {
   "cell_type": "markdown",
   "id": "62000a7b",
   "metadata": {
    "papermill": {
     "duration": 0.004455,
     "end_time": "2022-08-02T00:28:10.297776",
     "exception": false,
     "start_time": "2022-08-02T00:28:10.293321",
     "status": "completed"
    },
    "tags": []
   },
   "source": [
    "# Jane Street Market Prediction (#5.2)\n",
    "## Autoencoder\n",
    "\n",
    "Loaded by [#5.3](https://www.kaggle.com/wendellavila/janestreet-dimensionality-reduction) & [#6](https://www.kaggle.com/wendellavila/janestreet-ensemble)\n",
    "\n",
    "Notebook Navigation<br>\n",
    "[All](https://www.kaggle.com/wendellavila/janestreet-index/) | [#1](https://www.kaggle.com/wendellavila/janestreet-model-selection/) | [#2.1](https://www.kaggle.com/wendellavila/janestreet-preprocessing-selection) | [#2.2](https://www.kaggle.com/wendellavila/janestreet-data-preprocessing) | [#3](https://www.kaggle.com/wendellavila/janestreet-regularization-selection) | [#4.1](https://www.kaggle.com/wendellavila/janestreet-hyperparameter-tuning) | [#4.2](https://www.kaggle.com/wendellavila/janestreet-hyperparameter-evaluation) | [#5.1](https://www.kaggle.com/wendellavila/janestreet-pca) | [#5.2](https://www.kaggle.com/wendellavila/janestreet-autoencoder) | [#5.3](https://www.kaggle.com/wendellavila/janestreet-dimensionality-reduction-evaluation) |[#6](https://www.kaggle.com/wendellavila/janestreet-ensemble)"
   ]
  },
  {
   "cell_type": "markdown",
   "id": "675eb0f8",
   "metadata": {
    "papermill": {
     "duration": 0.003385,
     "end_time": "2022-08-02T00:28:10.305493",
     "exception": false,
     "start_time": "2022-08-02T00:28:10.302108",
     "status": "completed"
    },
    "tags": []
   },
   "source": [
    "## Imports"
   ]
  },
  {
   "cell_type": "code",
   "execution_count": 1,
   "id": "6bd42dcd",
   "metadata": {
    "_cell_guid": "b1076dfc-b9ad-4769-8c92-a6c4dae69d19",
    "_uuid": "8f2839f25d086af736a60e9eeb907d3b93b6e0e5",
    "execution": {
     "iopub.execute_input": "2022-08-02T00:28:10.316496Z",
     "iopub.status.busy": "2022-08-02T00:28:10.315973Z",
     "iopub.status.idle": "2022-08-02T00:28:16.264226Z",
     "shell.execute_reply": "2022-08-02T00:28:16.263248Z"
    },
    "papermill": {
     "duration": 5.956043,
     "end_time": "2022-08-02T00:28:16.266816",
     "exception": false,
     "start_time": "2022-08-02T00:28:10.310773",
     "status": "completed"
    },
    "tags": []
   },
   "outputs": [],
   "source": [
    "#import janestreet\n",
    "import os\n",
    "import glob\n",
    "import IPython\n",
    "\n",
    "import numpy as np\n",
    "import pandas as pd\n",
    "import random\n",
    "import matplotlib.pyplot as plt\n",
    "import seaborn as sns\n",
    "pd.set_option('display.max_columns', 150)\n",
    "%matplotlib inline\n",
    "\n",
    "import tensorflow as tf\n",
    "from tensorflow import keras\n",
    "from keras import layers\n",
    "from keras.models import load_model\n",
    "from keras.callbacks import Callback, ModelCheckpoint, EarlyStopping, ReduceLROnPlateau\n",
    "\n",
    "import sklearn\n",
    "from sklearn.preprocessing import StandardScaler\n",
    "from sklearn.decomposition import PCA"
   ]
  },
  {
   "cell_type": "markdown",
   "id": "cf527723",
   "metadata": {
    "papermill": {
     "duration": 0.002649,
     "end_time": "2022-08-02T00:28:16.272401",
     "exception": false,
     "start_time": "2022-08-02T00:28:16.269752",
     "status": "completed"
    },
    "tags": []
   },
   "source": [
    "## Loading data"
   ]
  },
  {
   "cell_type": "code",
   "execution_count": 2,
   "id": "1db617bc",
   "metadata": {
    "execution": {
     "iopub.execute_input": "2022-08-02T00:28:16.279203Z",
     "iopub.status.busy": "2022-08-02T00:28:16.278619Z",
     "iopub.status.idle": "2022-08-02T00:28:24.230570Z",
     "shell.execute_reply": "2022-08-02T00:28:24.229578Z"
    },
    "papermill": {
     "duration": 7.957852,
     "end_time": "2022-08-02T00:28:24.233033",
     "exception": false,
     "start_time": "2022-08-02T00:28:16.275181",
     "status": "completed"
    },
    "tags": []
   },
   "outputs": [],
   "source": [
    "#data loaded from another notebook\n",
    "#already preprocessed and downsized for faster loading\n",
    "#https://www.kaggle.com/code/wendellavila/janestreet-data-preprocessing/\n",
    "train_data = pd.read_pickle('../input/janestreet-data-preprocessing/train-mean-indicator.pkl')\n",
    "features = [col for col in train_data.columns if 'feature' in col]\n",
    "resp_cols = [col for col in train_data.columns if 'resp' in col]"
   ]
  },
  {
   "cell_type": "markdown",
   "id": "b8f54a10",
   "metadata": {
    "papermill": {
     "duration": 0.002424,
     "end_time": "2022-08-02T00:28:24.238888",
     "exception": false,
     "start_time": "2022-08-02T00:28:24.236464",
     "status": "completed"
    },
    "tags": []
   },
   "source": [
    "## Deep Autoencoder"
   ]
  },
  {
   "cell_type": "markdown",
   "id": "32df4e66",
   "metadata": {
    "papermill": {
     "duration": 0.002295,
     "end_time": "2022-08-02T00:28:24.243636",
     "exception": false,
     "start_time": "2022-08-02T00:28:24.241341",
     "status": "completed"
    },
    "tags": []
   },
   "source": [
    "### Defining Autoencoder"
   ]
  },
  {
   "cell_type": "code",
   "execution_count": 3,
   "id": "f02768ab",
   "metadata": {
    "execution": {
     "iopub.execute_input": "2022-08-02T00:28:24.250932Z",
     "iopub.status.busy": "2022-08-02T00:28:24.249528Z",
     "iopub.status.idle": "2022-08-02T00:28:24.257827Z",
     "shell.execute_reply": "2022-08-02T00:28:24.256879Z"
    },
    "papermill": {
     "duration": 0.013753,
     "end_time": "2022-08-02T00:28:24.259810",
     "exception": false,
     "start_time": "2022-08-02T00:28:24.246057",
     "status": "completed"
    },
    "tags": []
   },
   "outputs": [],
   "source": [
    "def create_autoencoder(num_input,num_output,noise=0.05):\n",
    "    i = layers.Input(num_input)\n",
    "    encoded = layers.BatchNormalization()(i)\n",
    "    encoded = layers.GaussianNoise(noise)(encoded)\n",
    "    encoded = layers.Dense(64,activation='relu')(encoded)\n",
    "    decoded = layers.Dropout(0.2)(encoded)\n",
    "    decoded = layers.Dense(num_input,name='decoded')(decoded)\n",
    "    x = layers.Dense(32,activation='relu')(decoded)\n",
    "    x = layers.BatchNormalization()(x)\n",
    "    x = layers.Dropout(0.2)(x)\n",
    "    x = layers.Dense(num_output,activation='sigmoid',name='label_output')(x)\n",
    "    \n",
    "    encoder = tf.keras.models.Model(inputs=i,outputs=decoded)\n",
    "    autoencoder = tf.keras.models.Model(inputs=i,outputs=[decoded,x])\n",
    "\n",
    "    autoencoder.compile(optimizer=tf.keras.optimizers.Adam(0.001),\n",
    "                        loss={'decoded':'mse','label_output':'binary_crossentropy'})\n",
    "    return autoencoder, encoder"
   ]
  },
  {
   "cell_type": "markdown",
   "id": "d1ab62de",
   "metadata": {
    "papermill": {
     "duration": 0.00223,
     "end_time": "2022-08-02T00:28:24.264480",
     "exception": false,
     "start_time": "2022-08-02T00:28:24.262250",
     "status": "completed"
    },
    "tags": []
   },
   "source": [
    "### Training Autoencoder"
   ]
  },
  {
   "cell_type": "code",
   "execution_count": 4,
   "id": "707b9fcc",
   "metadata": {
    "execution": {
     "iopub.execute_input": "2022-08-02T00:28:24.270683Z",
     "iopub.status.busy": "2022-08-02T00:28:24.270388Z",
     "iopub.status.idle": "2022-08-02T00:28:26.164208Z",
     "shell.execute_reply": "2022-08-02T00:28:26.163200Z"
    },
    "papermill": {
     "duration": 1.899704,
     "end_time": "2022-08-02T00:28:26.166608",
     "exception": false,
     "start_time": "2022-08-02T00:28:24.266904",
     "status": "completed"
    },
    "tags": []
   },
   "outputs": [],
   "source": [
    "X_train = train_data.loc[:, features].values    \n",
    "y_train = np.stack([(train_data[col] > 0).astype('int') for col in resp_cols]).T #Multitarget\n",
    "del train_data"
   ]
  },
  {
   "cell_type": "code",
   "execution_count": 5,
   "id": "28e21699",
   "metadata": {
    "execution": {
     "iopub.execute_input": "2022-08-02T00:28:26.174335Z",
     "iopub.status.busy": "2022-08-02T00:28:26.173234Z",
     "iopub.status.idle": "2022-08-02T00:32:33.418960Z",
     "shell.execute_reply": "2022-08-02T00:32:33.417984Z"
    },
    "papermill": {
     "duration": 247.251765,
     "end_time": "2022-08-02T00:32:33.421170",
     "exception": false,
     "start_time": "2022-08-02T00:28:26.169405",
     "status": "completed"
    },
    "tags": []
   },
   "outputs": [
    {
     "name": "stderr",
     "output_type": "stream",
     "text": [
      "2022-08-02 00:28:26.270329: I tensorflow/stream_executor/cuda/cuda_gpu_executor.cc:937] successful NUMA node read from SysFS had negative value (-1), but there must be at least one NUMA node, so returning NUMA node zero\n",
      "2022-08-02 00:28:26.417210: I tensorflow/stream_executor/cuda/cuda_gpu_executor.cc:937] successful NUMA node read from SysFS had negative value (-1), but there must be at least one NUMA node, so returning NUMA node zero\n",
      "2022-08-02 00:28:26.418036: I tensorflow/stream_executor/cuda/cuda_gpu_executor.cc:937] successful NUMA node read from SysFS had negative value (-1), but there must be at least one NUMA node, so returning NUMA node zero\n",
      "2022-08-02 00:28:26.419800: I tensorflow/core/platform/cpu_feature_guard.cc:142] This TensorFlow binary is optimized with oneAPI Deep Neural Network Library (oneDNN) to use the following CPU instructions in performance-critical operations:  AVX2 AVX512F FMA\n",
      "To enable them in other operations, rebuild TensorFlow with the appropriate compiler flags.\n",
      "2022-08-02 00:28:26.424707: I tensorflow/stream_executor/cuda/cuda_gpu_executor.cc:937] successful NUMA node read from SysFS had negative value (-1), but there must be at least one NUMA node, so returning NUMA node zero\n",
      "2022-08-02 00:28:26.425438: I tensorflow/stream_executor/cuda/cuda_gpu_executor.cc:937] successful NUMA node read from SysFS had negative value (-1), but there must be at least one NUMA node, so returning NUMA node zero\n",
      "2022-08-02 00:28:26.426150: I tensorflow/stream_executor/cuda/cuda_gpu_executor.cc:937] successful NUMA node read from SysFS had negative value (-1), but there must be at least one NUMA node, so returning NUMA node zero\n",
      "2022-08-02 00:28:28.518101: I tensorflow/stream_executor/cuda/cuda_gpu_executor.cc:937] successful NUMA node read from SysFS had negative value (-1), but there must be at least one NUMA node, so returning NUMA node zero\n",
      "2022-08-02 00:28:28.518987: I tensorflow/stream_executor/cuda/cuda_gpu_executor.cc:937] successful NUMA node read from SysFS had negative value (-1), but there must be at least one NUMA node, so returning NUMA node zero\n",
      "2022-08-02 00:28:28.519666: I tensorflow/stream_executor/cuda/cuda_gpu_executor.cc:937] successful NUMA node read from SysFS had negative value (-1), but there must be at least one NUMA node, so returning NUMA node zero\n",
      "2022-08-02 00:28:28.520267: I tensorflow/core/common_runtime/gpu/gpu_device.cc:1510] Created device /job:localhost/replica:0/task:0/device:GPU:0 with 15403 MB memory:  -> device: 0, name: Tesla P100-PCIE-16GB, pci bus id: 0000:00:04.0, compute capability: 6.0\n",
      "2022-08-02 00:28:31.064985: W tensorflow/core/framework/cpu_allocator_impl.cc:80] Allocation of 1657635376 exceeds 10% of free system memory.\n",
      "2022-08-02 00:28:34.826101: W tensorflow/core/framework/cpu_allocator_impl.cc:80] Allocation of 1657635376 exceeds 10% of free system memory.\n",
      "2022-08-02 00:28:36.768075: W tensorflow/core/framework/cpu_allocator_impl.cc:80] Allocation of 1657635376 exceeds 10% of free system memory.\n",
      "2022-08-02 00:28:38.066304: W tensorflow/core/framework/cpu_allocator_impl.cc:80] Allocation of 1657635376 exceeds 10% of free system memory.\n",
      "2022-08-02 00:28:39.683906: I tensorflow/compiler/mlir/mlir_graph_optimization_pass.cc:185] None of the MLIR Optimization Passes are enabled (registered 2)\n"
     ]
    },
    {
     "name": "stdout",
     "output_type": "stream",
     "text": [
      "Epoch 1/1000\n",
      "465/465 [==============================] - 7s 12ms/step - loss: 2.5726 - decoded_loss: 1.8623 - label_output_loss: 0.7103 - val_loss: 1.1469 - val_decoded_loss: 0.4552 - val_label_output_loss: 0.6917\n",
      "Epoch 2/1000\n",
      "465/465 [==============================] - 4s 9ms/step - loss: 1.8075 - decoded_loss: 1.1142 - label_output_loss: 0.6933 - val_loss: 1.0590 - val_decoded_loss: 0.3676 - val_label_output_loss: 0.6913\n",
      "Epoch 3/1000\n",
      "465/465 [==============================] - 4s 8ms/step - loss: 1.7268 - decoded_loss: 1.0354 - label_output_loss: 0.6914 - val_loss: 1.0352 - val_decoded_loss: 0.3443 - val_label_output_loss: 0.6909\n",
      "Epoch 4/1000\n",
      "465/465 [==============================] - 4s 9ms/step - loss: 1.6912 - decoded_loss: 1.0004 - label_output_loss: 0.6908 - val_loss: 1.0086 - val_decoded_loss: 0.3181 - val_label_output_loss: 0.6905\n",
      "Epoch 5/1000\n",
      "465/465 [==============================] - 4s 8ms/step - loss: 1.6614 - decoded_loss: 0.9707 - label_output_loss: 0.6907 - val_loss: 0.9942 - val_decoded_loss: 0.3036 - val_label_output_loss: 0.6906\n",
      "Epoch 6/1000\n",
      "465/465 [==============================] - 4s 8ms/step - loss: 1.6550 - decoded_loss: 0.9644 - label_output_loss: 0.6906 - val_loss: 0.9853 - val_decoded_loss: 0.2947 - val_label_output_loss: 0.6905\n",
      "Epoch 7/1000\n",
      "465/465 [==============================] - 4s 9ms/step - loss: 1.6312 - decoded_loss: 0.9406 - label_output_loss: 0.6905 - val_loss: 0.9805 - val_decoded_loss: 0.2900 - val_label_output_loss: 0.6905\n",
      "Epoch 8/1000\n",
      "465/465 [==============================] - 4s 10ms/step - loss: 1.6235 - decoded_loss: 0.9330 - label_output_loss: 0.6905 - val_loss: 0.9760 - val_decoded_loss: 0.2858 - val_label_output_loss: 0.6902\n",
      "Epoch 9/1000\n",
      "465/465 [==============================] - 4s 9ms/step - loss: 1.6196 - decoded_loss: 0.9291 - label_output_loss: 0.6905 - val_loss: 0.9754 - val_decoded_loss: 0.2851 - val_label_output_loss: 0.6903\n",
      "Epoch 10/1000\n",
      "465/465 [==============================] - 4s 8ms/step - loss: 1.6095 - decoded_loss: 0.9191 - label_output_loss: 0.6904 - val_loss: 0.9665 - val_decoded_loss: 0.2763 - val_label_output_loss: 0.6902\n",
      "Epoch 11/1000\n",
      "465/465 [==============================] - 4s 8ms/step - loss: 1.6030 - decoded_loss: 0.9126 - label_output_loss: 0.6904 - val_loss: 0.9609 - val_decoded_loss: 0.2709 - val_label_output_loss: 0.6900\n",
      "Epoch 12/1000\n",
      "465/465 [==============================] - 4s 9ms/step - loss: 1.6011 - decoded_loss: 0.9108 - label_output_loss: 0.6903 - val_loss: 0.9628 - val_decoded_loss: 0.2726 - val_label_output_loss: 0.6902\n",
      "Epoch 13/1000\n",
      "465/465 [==============================] - 4s 8ms/step - loss: 1.5974 - decoded_loss: 0.9070 - label_output_loss: 0.6903 - val_loss: 0.9576 - val_decoded_loss: 0.2676 - val_label_output_loss: 0.6900\n",
      "Epoch 14/1000\n",
      "465/465 [==============================] - 4s 9ms/step - loss: 1.5895 - decoded_loss: 0.8993 - label_output_loss: 0.6903 - val_loss: 0.9510 - val_decoded_loss: 0.2608 - val_label_output_loss: 0.6902\n",
      "Epoch 15/1000\n",
      "465/465 [==============================] - 4s 9ms/step - loss: 1.5910 - decoded_loss: 0.9008 - label_output_loss: 0.6902 - val_loss: 0.9560 - val_decoded_loss: 0.2659 - val_label_output_loss: 0.6900\n",
      "Epoch 16/1000\n",
      "465/465 [==============================] - 4s 9ms/step - loss: 1.5871 - decoded_loss: 0.8970 - label_output_loss: 0.6902 - val_loss: 0.9583 - val_decoded_loss: 0.2683 - val_label_output_loss: 0.6900\n",
      "Epoch 17/1000\n",
      "465/465 [==============================] - 4s 9ms/step - loss: 1.5789 - decoded_loss: 0.8887 - label_output_loss: 0.6902 - val_loss: 0.9496 - val_decoded_loss: 0.2594 - val_label_output_loss: 0.6902\n",
      "Epoch 18/1000\n",
      "465/465 [==============================] - 4s 8ms/step - loss: 1.5785 - decoded_loss: 0.8883 - label_output_loss: 0.6901 - val_loss: 0.9452 - val_decoded_loss: 0.2552 - val_label_output_loss: 0.6900\n",
      "Epoch 19/1000\n",
      "465/465 [==============================] - 4s 8ms/step - loss: 1.5745 - decoded_loss: 0.8843 - label_output_loss: 0.6902 - val_loss: 0.9435 - val_decoded_loss: 0.2535 - val_label_output_loss: 0.6900\n",
      "Epoch 20/1000\n",
      "465/465 [==============================] - 4s 9ms/step - loss: 1.5716 - decoded_loss: 0.8814 - label_output_loss: 0.6901 - val_loss: 0.9445 - val_decoded_loss: 0.2546 - val_label_output_loss: 0.6899\n",
      "Epoch 21/1000\n",
      "465/465 [==============================] - 4s 8ms/step - loss: 1.5700 - decoded_loss: 0.8799 - label_output_loss: 0.6901 - val_loss: 0.9415 - val_decoded_loss: 0.2517 - val_label_output_loss: 0.6899\n",
      "Epoch 22/1000\n",
      "465/465 [==============================] - 4s 8ms/step - loss: 1.5780 - decoded_loss: 0.8880 - label_output_loss: 0.6900 - val_loss: 0.9409 - val_decoded_loss: 0.2511 - val_label_output_loss: 0.6898\n",
      "Epoch 23/1000\n",
      "465/465 [==============================] - 4s 9ms/step - loss: 1.5749 - decoded_loss: 0.8849 - label_output_loss: 0.6900 - val_loss: 0.9432 - val_decoded_loss: 0.2533 - val_label_output_loss: 0.6899\n",
      "Epoch 24/1000\n",
      "465/465 [==============================] - 4s 9ms/step - loss: 1.5587 - decoded_loss: 0.8686 - label_output_loss: 0.6901 - val_loss: 0.9377 - val_decoded_loss: 0.2478 - val_label_output_loss: 0.6899\n",
      "Epoch 25/1000\n",
      "465/465 [==============================] - 4s 9ms/step - loss: 1.5713 - decoded_loss: 0.8813 - label_output_loss: 0.6900 - val_loss: 0.9397 - val_decoded_loss: 0.2498 - val_label_output_loss: 0.6899\n",
      "Epoch 26/1000\n",
      "465/465 [==============================] - 4s 9ms/step - loss: 1.5765 - decoded_loss: 0.8865 - label_output_loss: 0.6900 - val_loss: 0.9383 - val_decoded_loss: 0.2483 - val_label_output_loss: 0.6900\n",
      "Epoch 27/1000\n",
      "465/465 [==============================] - 4s 8ms/step - loss: 1.5656 - decoded_loss: 0.8756 - label_output_loss: 0.6900 - val_loss: 0.9377 - val_decoded_loss: 0.2479 - val_label_output_loss: 0.6898\n",
      "Epoch 28/1000\n",
      "465/465 [==============================] - 4s 9ms/step - loss: 1.5653 - decoded_loss: 0.8753 - label_output_loss: 0.6900 - val_loss: 0.9377 - val_decoded_loss: 0.2478 - val_label_output_loss: 0.6899\n",
      "Epoch 29/1000\n",
      "465/465 [==============================] - 4s 8ms/step - loss: 1.5561 - decoded_loss: 0.8661 - label_output_loss: 0.6900 - val_loss: 0.9406 - val_decoded_loss: 0.2506 - val_label_output_loss: 0.6900\n",
      "Epoch 30/1000\n",
      "465/465 [==============================] - 4s 8ms/step - loss: 1.5701 - decoded_loss: 0.8801 - label_output_loss: 0.6900 - val_loss: 0.9333 - val_decoded_loss: 0.2435 - val_label_output_loss: 0.6898\n",
      "Epoch 31/1000\n",
      "465/465 [==============================] - 4s 9ms/step - loss: 1.5655 - decoded_loss: 0.8755 - label_output_loss: 0.6899 - val_loss: 0.9326 - val_decoded_loss: 0.2429 - val_label_output_loss: 0.6897\n",
      "Epoch 32/1000\n",
      "465/465 [==============================] - 4s 8ms/step - loss: 1.5707 - decoded_loss: 0.8807 - label_output_loss: 0.6899 - val_loss: 0.9365 - val_decoded_loss: 0.2466 - val_label_output_loss: 0.6899\n",
      "Epoch 33/1000\n",
      "465/465 [==============================] - 4s 9ms/step - loss: 1.5684 - decoded_loss: 0.8784 - label_output_loss: 0.6899 - val_loss: 0.9347 - val_decoded_loss: 0.2448 - val_label_output_loss: 0.6898\n",
      "Epoch 34/1000\n",
      "465/465 [==============================] - 4s 9ms/step - loss: 1.5583 - decoded_loss: 0.8683 - label_output_loss: 0.6899 - val_loss: 0.9311 - val_decoded_loss: 0.2412 - val_label_output_loss: 0.6899\n",
      "Epoch 35/1000\n",
      "465/465 [==============================] - 4s 8ms/step - loss: 1.5603 - decoded_loss: 0.8705 - label_output_loss: 0.6899 - val_loss: 0.9326 - val_decoded_loss: 0.2423 - val_label_output_loss: 0.6903\n",
      "Epoch 36/1000\n",
      "465/465 [==============================] - 4s 8ms/step - loss: 1.5601 - decoded_loss: 0.8701 - label_output_loss: 0.6899 - val_loss: 0.9354 - val_decoded_loss: 0.2457 - val_label_output_loss: 0.6897\n",
      "Epoch 37/1000\n",
      "465/465 [==============================] - 4s 9ms/step - loss: 1.5619 - decoded_loss: 0.8720 - label_output_loss: 0.6899 - val_loss: 0.9295 - val_decoded_loss: 0.2397 - val_label_output_loss: 0.6898\n",
      "Epoch 38/1000\n",
      "465/465 [==============================] - 4s 8ms/step - loss: 1.5513 - decoded_loss: 0.8614 - label_output_loss: 0.6898 - val_loss: 0.9370 - val_decoded_loss: 0.2472 - val_label_output_loss: 0.6898\n",
      "Epoch 39/1000\n",
      "465/465 [==============================] - 4s 9ms/step - loss: 1.5546 - decoded_loss: 0.8647 - label_output_loss: 0.6898 - val_loss: 0.9291 - val_decoded_loss: 0.2393 - val_label_output_loss: 0.6898\n",
      "Epoch 40/1000\n",
      "465/465 [==============================] - 4s 8ms/step - loss: 1.5589 - decoded_loss: 0.8691 - label_output_loss: 0.6899 - val_loss: 0.9325 - val_decoded_loss: 0.2428 - val_label_output_loss: 0.6897\n",
      "Epoch 41/1000\n",
      "465/465 [==============================] - 5s 10ms/step - loss: 1.5615 - decoded_loss: 0.8716 - label_output_loss: 0.6899 - val_loss: 0.9348 - val_decoded_loss: 0.2453 - val_label_output_loss: 0.6896\n",
      "Epoch 42/1000\n",
      "465/465 [==============================] - 4s 9ms/step - loss: 1.5543 - decoded_loss: 0.8645 - label_output_loss: 0.6899 - val_loss: 0.9285 - val_decoded_loss: 0.2387 - val_label_output_loss: 0.6898\n",
      "Epoch 43/1000\n",
      "465/465 [==============================] - 4s 8ms/step - loss: 1.5606 - decoded_loss: 0.8707 - label_output_loss: 0.6899 - val_loss: 0.9285 - val_decoded_loss: 0.2389 - val_label_output_loss: 0.6896\n",
      "Epoch 44/1000\n",
      "465/465 [==============================] - 4s 8ms/step - loss: 1.5534 - decoded_loss: 0.8635 - label_output_loss: 0.6898 - val_loss: 0.9320 - val_decoded_loss: 0.2423 - val_label_output_loss: 0.6897\n",
      "Epoch 45/1000\n",
      "465/465 [==============================] - 4s 9ms/step - loss: 1.5528 - decoded_loss: 0.8630 - label_output_loss: 0.6898 - val_loss: 0.9218 - val_decoded_loss: 0.2321 - val_label_output_loss: 0.6897\n",
      "Epoch 46/1000\n",
      "465/465 [==============================] - 4s 8ms/step - loss: 1.5533 - decoded_loss: 0.8635 - label_output_loss: 0.6898 - val_loss: 0.9320 - val_decoded_loss: 0.2423 - val_label_output_loss: 0.6897\n",
      "Epoch 47/1000\n",
      "465/465 [==============================] - 4s 8ms/step - loss: 1.5524 - decoded_loss: 0.8626 - label_output_loss: 0.6898 - val_loss: 0.9329 - val_decoded_loss: 0.2432 - val_label_output_loss: 0.6897\n",
      "Epoch 48/1000\n",
      "465/465 [==============================] - 5s 10ms/step - loss: 1.5496 - decoded_loss: 0.8597 - label_output_loss: 0.6898 - val_loss: 0.9279 - val_decoded_loss: 0.2380 - val_label_output_loss: 0.6899\n",
      "Epoch 49/1000\n",
      "465/465 [==============================] - 5s 10ms/step - loss: 1.5395 - decoded_loss: 0.8497 - label_output_loss: 0.6898 - val_loss: 0.9263 - val_decoded_loss: 0.2366 - val_label_output_loss: 0.6897\n",
      "Epoch 50/1000\n",
      "465/465 [==============================] - 4s 9ms/step - loss: 1.5510 - decoded_loss: 0.8612 - label_output_loss: 0.6898 - val_loss: 0.9325 - val_decoded_loss: 0.2428 - val_label_output_loss: 0.6897\n",
      "Epoch 51/1000\n",
      "465/465 [==============================] - 4s 8ms/step - loss: 1.5361 - decoded_loss: 0.8463 - label_output_loss: 0.6898 - val_loss: 0.9307 - val_decoded_loss: 0.2411 - val_label_output_loss: 0.6896\n",
      "Epoch 52/1000\n",
      "465/465 [==============================] - 4s 8ms/step - loss: 1.5357 - decoded_loss: 0.8460 - label_output_loss: 0.6897 - val_loss: 0.9313 - val_decoded_loss: 0.2416 - val_label_output_loss: 0.6897\n",
      "Epoch 53/1000\n",
      "465/465 [==============================] - 4s 9ms/step - loss: 1.5425 - decoded_loss: 0.8527 - label_output_loss: 0.6897 - val_loss: 0.9411 - val_decoded_loss: 0.2515 - val_label_output_loss: 0.6896\n",
      "Epoch 54/1000\n",
      "465/465 [==============================] - 4s 8ms/step - loss: 1.5367 - decoded_loss: 0.8470 - label_output_loss: 0.6897 - val_loss: 0.9322 - val_decoded_loss: 0.2424 - val_label_output_loss: 0.6898\n",
      "Epoch 55/1000\n",
      "465/465 [==============================] - 4s 8ms/step - loss: 1.5481 - decoded_loss: 0.8583 - label_output_loss: 0.6898 - val_loss: 0.9255 - val_decoded_loss: 0.2357 - val_label_output_loss: 0.6898\n",
      "Epoch 56/1000\n",
      "465/465 [==============================] - 4s 9ms/step - loss: 1.5394 - decoded_loss: 0.8496 - label_output_loss: 0.6898 - val_loss: 0.9234 - val_decoded_loss: 0.2336 - val_label_output_loss: 0.6897\n",
      "Epoch 57/1000\n",
      "465/465 [==============================] - 5s 10ms/step - loss: 1.5501 - decoded_loss: 0.8604 - label_output_loss: 0.6897 - val_loss: 0.9282 - val_decoded_loss: 0.2387 - val_label_output_loss: 0.6895\n"
     ]
    }
   ],
   "source": [
    "autoencoder, encoder = create_autoencoder(len(features),len(resp_cols),noise=0.1)\n",
    "   \n",
    "autoencoder.fit(X_train,(X_train,y_train),epochs=1000,batch_size=4096, validation_split=0.1,\n",
    "                callbacks=[EarlyStopping('val_loss',patience=12,restore_best_weights=True)])\n",
    "encoder.save_weights('./encoder.h5')"
   ]
  }
 ],
 "metadata": {
  "kernelspec": {
   "display_name": "Python 3",
   "language": "python",
   "name": "python3"
  },
  "language_info": {
   "codemirror_mode": {
    "name": "ipython",
    "version": 3
   },
   "file_extension": ".py",
   "mimetype": "text/x-python",
   "name": "python",
   "nbconvert_exporter": "python",
   "pygments_lexer": "ipython3",
   "version": "3.7.12"
  },
  "papermill": {
   "default_parameters": {},
   "duration": 274.43268,
   "end_time": "2022-08-02T00:32:36.640735",
   "environment_variables": {},
   "exception": null,
   "input_path": "__notebook__.ipynb",
   "output_path": "__notebook__.ipynb",
   "parameters": {},
   "start_time": "2022-08-02T00:28:02.208055",
   "version": "2.3.4"
  }
 },
 "nbformat": 4,
 "nbformat_minor": 5
}
