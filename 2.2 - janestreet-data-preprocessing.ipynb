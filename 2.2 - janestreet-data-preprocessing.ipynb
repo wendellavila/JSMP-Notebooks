{
 "cells": [
  {
   "cell_type": "markdown",
   "metadata": {
    "papermill": {
     "duration": 0.012675,
     "end_time": "2022-08-01T19:21:15.565551",
     "exception": false,
     "start_time": "2022-08-01T19:21:15.552876",
     "status": "completed"
    },
    "tags": []
   },
   "source": [
    "# Jane Street Market Prediction (#2.2)\n",
    "## Imputation, downsizing dataset.\n",
    "\n",
    "Loaded by all training notebooks.<br>\n",
    "Evaluated in https://www.kaggle.com/wendellavila/janestreet-preprocessing-selection/\n",
    "\n",
    "Notebook Navigation<br>\n",
    "[All](https://www.kaggle.com/wendellavila/janestreet-index/) | [#1](https://www.kaggle.com/wendellavila/janestreet-model-selection/) | [#2.1](https://www.kaggle.com/wendellavila/janestreet-preprocessing-selection) | [#2.2](https://www.kaggle.com/wendellavila/janestreet-data-preprocessing) | [#3](https://www.kaggle.com/wendellavila/janestreet-regularization-selection) | [#4.1](https://www.kaggle.com/wendellavila/janestreet-hyperparameter-tuning) | [#4.2](https://www.kaggle.com/wendellavila/janestreet-hyperparameter-evaluation) | [#5.1](https://www.kaggle.com/wendellavila/janestreet-pca) | [#5.2](https://www.kaggle.com/wendellavila/janestreet-autoencoder) | [#5.3](https://www.kaggle.com/wendellavila/janestreet-dimensionality-reduction-evaluation) |[#6](https://www.kaggle.com/wendellavila/janestreet-ensemble)"
   ]
  },
  {
   "cell_type": "markdown",
   "metadata": {
    "papermill": {
     "duration": 0.009342,
     "end_time": "2022-08-01T19:21:15.584714",
     "exception": false,
     "start_time": "2022-08-01T19:21:15.575372",
     "status": "completed"
    },
    "tags": []
   },
   "source": [
    "## Imports"
   ]
  },
  {
   "cell_type": "code",
   "execution_count": 1,
   "metadata": {
    "_cell_guid": "b1076dfc-b9ad-4769-8c92-a6c4dae69d19",
    "_uuid": "8f2839f25d086af736a60e9eeb907d3b93b6e0e5",
    "execution": {
     "iopub.execute_input": "2022-08-01T19:21:15.606733Z",
     "iopub.status.busy": "2022-08-01T19:21:15.606167Z",
     "iopub.status.idle": "2022-08-01T19:21:16.622239Z",
     "shell.execute_reply": "2022-08-01T19:21:16.621538Z",
     "shell.execute_reply.started": "2022-07-14T03:11:24.586089Z"
    },
    "papermill": {
     "duration": 1.027969,
     "end_time": "2022-08-01T19:21:16.622356",
     "exception": false,
     "start_time": "2022-08-01T19:21:15.594387",
     "status": "completed"
    },
    "tags": []
   },
   "outputs": [],
   "source": [
    "import numpy as np\n",
    "import pandas as pd\n",
    "import seaborn as sns\n",
    "import matplotlib.pyplot as plt\n",
    "import sklearn\n",
    "#from sklearn.experimental import enable_iterative_imputer\n",
    "from sklearn.impute import SimpleImputer#, IterativeImputer\n",
    "pd.set_option('display.max_columns', 300)"
   ]
  },
  {
   "cell_type": "markdown",
   "metadata": {
    "papermill": {
     "duration": 0.009683,
     "end_time": "2022-08-01T19:21:16.642032",
     "exception": false,
     "start_time": "2022-08-01T19:21:16.632349",
     "status": "completed"
    },
    "tags": []
   },
   "source": [
    "## Misc"
   ]
  },
  {
   "cell_type": "code",
   "execution_count": 2,
   "metadata": {
    "execution": {
     "iopub.execute_input": "2022-08-01T19:21:16.675088Z",
     "iopub.status.busy": "2022-08-01T19:21:16.674540Z",
     "iopub.status.idle": "2022-08-01T19:21:16.677282Z",
     "shell.execute_reply": "2022-08-01T19:21:16.676786Z",
     "shell.execute_reply.started": "2022-07-14T03:11:59.590987Z"
    },
    "papermill": {
     "duration": 0.025145,
     "end_time": "2022-08-01T19:21:16.677382",
     "exception": false,
     "start_time": "2022-08-01T19:21:16.652237",
     "status": "completed"
    },
    "tags": []
   },
   "outputs": [],
   "source": [
    "#downsizing dataframe for faster loading\n",
    "def reduce_dtypes(df):\n",
    "    \n",
    "    for col in df.columns:\n",
    "        col_type = df[col].dtype\n",
    "        \n",
    "        if col_type != object:\n",
    "            c_min = df[col].min()\n",
    "            c_max = df[col].max()\n",
    "            if str(col_type)[:3] == 'int':\n",
    "                if c_min > np.iinfo(np.int8).min and c_max < np.iinfo(np.int8).max:\n",
    "                    df[col] = df[col].astype(np.int8)\n",
    "                elif c_min > np.iinfo(np.int16).min and c_max < np.iinfo(np.int16).max:\n",
    "                    df[col] = df[col].astype(np.int16)\n",
    "                elif c_min > np.iinfo(np.int32).min and c_max < np.iinfo(np.int32).max:\n",
    "                    df[col] = df[col].astype(np.int32)\n",
    "                else:\n",
    "                    df[col] = df[col].astype(np.int64)  \n",
    "            else:\n",
    "                if c_min > np.finfo(np.float16).min and c_max < np.finfo(np.float16).max:\n",
    "                    df[col] = df[col].astype(np.float16)\n",
    "                elif c_min > np.finfo(np.float32).min and c_max < np.finfo(np.float32).max:\n",
    "                    df[col] = df[col].astype(np.float32)\n",
    "                else:\n",
    "                    df[col] = df[col].astype(np.float64)\n",
    "        else:\n",
    "            df[col] = df[col].astype('category')\n",
    "            \n",
    "    return df"
   ]
  },
  {
   "cell_type": "code",
   "execution_count": 3,
   "metadata": {
    "execution": {
     "iopub.execute_input": "2022-08-01T19:21:16.701673Z",
     "iopub.status.busy": "2022-08-01T19:21:16.701095Z",
     "iopub.status.idle": "2022-08-01T19:21:16.703008Z",
     "shell.execute_reply": "2022-08-01T19:21:16.703463Z",
     "shell.execute_reply.started": "2022-07-06T15:05:54.514355Z"
    },
    "jupyter": {
     "source_hidden": true
    },
    "papermill": {
     "duration": 0.016485,
     "end_time": "2022-08-01T19:21:16.703581",
     "exception": false,
     "start_time": "2022-08-01T19:21:16.687096",
     "status": "completed"
    },
    "tags": []
   },
   "outputs": [],
   "source": [
    "def missing_info(df):\n",
    "    print(\"Total N° of NaN: \", df.isnull().sum().sum())\n",
    "    col_nan = df.columns[df.isnull().any()]\n",
    "    print(\"N° of columns with NaN: \", len(col_nan))\n",
    "    df[col_nan]"
   ]
  },
  {
   "cell_type": "code",
   "execution_count": 4,
   "metadata": {
    "execution": {
     "iopub.execute_input": "2022-08-01T19:21:16.725007Z",
     "iopub.status.busy": "2022-08-01T19:21:16.724487Z",
     "iopub.status.idle": "2022-08-01T19:21:16.728638Z",
     "shell.execute_reply": "2022-08-01T19:21:16.729046Z",
     "shell.execute_reply.started": "2022-07-06T15:05:54.525953Z"
    },
    "jupyter": {
     "source_hidden": true
    },
    "papermill": {
     "duration": 0.015969,
     "end_time": "2022-08-01T19:21:16.729188",
     "exception": false,
     "start_time": "2022-08-01T19:21:16.713219",
     "status": "completed"
    },
    "tags": []
   },
   "outputs": [],
   "source": [
    "def add_missing_indicator(df):\n",
    "    col_nan = df.columns[df.isnull().any()]\n",
    "    missing_i = df[col_nan].isnull().astype('float64').add_suffix('_missing')\n",
    "    return pd.concat([df, missing_i], axis=\"columns\")"
   ]
  },
  {
   "cell_type": "markdown",
   "metadata": {
    "papermill": {
     "duration": 0.009588,
     "end_time": "2022-08-01T19:21:16.748403",
     "exception": false,
     "start_time": "2022-08-01T19:21:16.738815",
     "status": "completed"
    },
    "tags": []
   },
   "source": [
    "## Visualizing data"
   ]
  },
  {
   "cell_type": "markdown",
   "metadata": {
    "papermill": {
     "duration": 0.009731,
     "end_time": "2022-08-01T19:21:16.768271",
     "exception": false,
     "start_time": "2022-08-01T19:21:16.758540",
     "status": "completed"
    },
    "tags": []
   },
   "source": [
    "# data = reduce_dtypes(pd.read_hdf('../input/jane-street-market-train-data-best-formats/jane_street_train.h5'))\n",
    "# data = pd.read_hdf('../input/jane-street-market-train-data-best-formats/jane_street_train.h5')\n",
    "# features = [c for c in data.columns if 'feature' in c]\n",
    "# data"
   ]
  },
  {
   "cell_type": "code",
   "execution_count": 5,
   "metadata": {
    "execution": {
     "iopub.execute_input": "2022-08-01T19:21:16.790476Z",
     "iopub.status.busy": "2022-08-01T19:21:16.789922Z",
     "iopub.status.idle": "2022-08-01T19:21:16.793326Z",
     "shell.execute_reply": "2022-08-01T19:21:16.792773Z",
     "shell.execute_reply.started": "2022-07-06T15:05:54.547054Z"
    },
    "papermill": {
     "duration": 0.015256,
     "end_time": "2022-08-01T19:21:16.793425",
     "exception": false,
     "start_time": "2022-08-01T19:21:16.778169",
     "status": "completed"
    },
    "tags": []
   },
   "outputs": [],
   "source": [
    "# missing_info(data)\n",
    "# missing = pd.DataFrame(df[col_nan].isnull().sum().sort_values(ascending=False)*100/df.shape[0],columns=['missing %']).T\n",
    "# missing.style.background_gradient(cmap='Blues', axis=1)"
   ]
  },
  {
   "cell_type": "code",
   "execution_count": 6,
   "metadata": {
    "execution": {
     "iopub.execute_input": "2022-08-01T19:21:16.815849Z",
     "iopub.status.busy": "2022-08-01T19:21:16.815319Z",
     "iopub.status.idle": "2022-08-01T19:21:16.817623Z",
     "shell.execute_reply": "2022-08-01T19:21:16.818043Z",
     "shell.execute_reply.started": "2022-07-06T15:05:54.630918Z"
    },
    "papermill": {
     "duration": 0.015195,
     "end_time": "2022-08-01T19:21:16.818188",
     "exception": false,
     "start_time": "2022-08-01T19:21:16.802993",
     "status": "completed"
    },
    "tags": []
   },
   "outputs": [],
   "source": [
    "# # Display the histogram \n",
    "# fig,axes = plt.subplots(nrows=45,ncols=3,figsize=(25,250))\n",
    "\n",
    "# for i in range(2,137):\n",
    "#     sns.distplot(data.iloc[:,i],ax=axes[(i-2)//3,(i-2)%3])"
   ]
  },
  {
   "cell_type": "code",
   "execution_count": 7,
   "metadata": {
    "execution": {
     "iopub.execute_input": "2022-08-01T19:21:16.840232Z",
     "iopub.status.busy": "2022-08-01T19:21:16.839358Z",
     "iopub.status.idle": "2022-08-01T19:21:16.842567Z",
     "shell.execute_reply": "2022-08-01T19:21:16.843000Z",
     "shell.execute_reply.started": "2022-07-06T15:05:55.184402Z"
    },
    "papermill": {
     "duration": 0.015359,
     "end_time": "2022-08-01T19:21:16.843108",
     "exception": false,
     "start_time": "2022-08-01T19:21:16.827749",
     "status": "completed"
    },
    "tags": []
   },
   "outputs": [],
   "source": [
    "# del data"
   ]
  },
  {
   "cell_type": "markdown",
   "metadata": {
    "papermill": {
     "duration": 0.009375,
     "end_time": "2022-08-01T19:21:16.862066",
     "exception": false,
     "start_time": "2022-08-01T19:21:16.852691",
     "status": "completed"
    },
    "tags": []
   },
   "source": [
    "## Preprocessing Pipeline"
   ]
  },
  {
   "cell_type": "code",
   "execution_count": 8,
   "metadata": {
    "execution": {
     "iopub.execute_input": "2022-08-01T19:21:16.884275Z",
     "iopub.status.busy": "2022-08-01T19:21:16.883385Z",
     "iopub.status.idle": "2022-08-01T19:21:16.895750Z",
     "shell.execute_reply": "2022-08-01T19:21:16.896187Z",
     "shell.execute_reply.started": "2022-07-06T15:05:56.687908Z"
    },
    "papermill": {
     "duration": 0.02464,
     "end_time": "2022-08-01T19:21:16.896299",
     "exception": false,
     "start_time": "2022-08-01T19:21:16.871659",
     "status": "completed"
    },
    "tags": []
   },
   "outputs": [],
   "source": [
    "def preprocessing_pipeline(imputation='none', name='none', addIndicator=False, removeExtraResp=False, remove0=False):\n",
    "    print(\"Loading data...\")\n",
    "    data = pd.read_hdf('../input/jane-street-market-train-data-best-formats/jane_street_train.h5')\n",
    "    print(\"Data loaded. Working...\")\n",
    "    features = [c for c in data.columns if 'feature' in c]\n",
    "    resps = [c for c in data.columns if 'resp' in c]\n",
    "    \n",
    "    #filtering out rows with weight == 0\n",
    "    if(remove0 == True):\n",
    "        data = data.query('weight > 0').reset_index(drop=True)\n",
    "    \n",
    "    if(removeExtraResp == True):\n",
    "        data = data[['date'] + ['weight'] + ['resp'] + features]\n",
    "    else:\n",
    "        data = data[['date'] + ['weight'] + resps + features]\n",
    "        \n",
    "    if(addIndicator == True):\n",
    "        data = add_missing_indicator(data)\n",
    "    \n",
    "    data['action'] = (data['resp'] > 0.000000001)*1\n",
    "    \n",
    "    train_data = data[data['date']<450]\n",
    "    val_data = data[data['date']>=450]\n",
    "    del data\n",
    "    \n",
    "    print(\"Imputting...\")\n",
    "    #imputation\n",
    "    if(imputation == 'mean'):\n",
    "        mean = train_data.mean()\n",
    "        train_data.fillna(value=mean, inplace=True)\n",
    "        val_data.fillna(value=mean, inplace=True)\n",
    "    elif(imputation == 'ffil'):\n",
    "        train_data.fillna(method='ffill', inplace=True)\n",
    "        val_data.fillna(method='ffill', inplace=True)\n",
    "        mean = train_data.mean()\n",
    "        train_data.fillna(value=mean, inplace=True)\n",
    "        val_data.fillna(value=mean, inplace=True)\n",
    "#     elif(imputation == 'iterative'):\n",
    "#         imp = IterativeImputer(max_iter=10)\n",
    "#         temp_data = pd.DataFrame(imp.fit_transform(train_data))\n",
    "#         temp_data.columns=train_data.columns\n",
    "#         temp_data.index=train_data.index\n",
    "#         train_data = temp_data\n",
    "        \n",
    "#         temp_data = pd.DataFrame(imp.transform(val_data))\n",
    "#         temp_data.columns=val_data.columns\n",
    "#         temp_data.index=val_data.index\n",
    "#         val_data = temp_data\n",
    "#         del temp_data\n",
    "    \n",
    "    #reducing dtypes of dataframe for faster loading\n",
    "    train_data = reduce_dtypes(train_data)\n",
    "    val_data = reduce_dtypes(val_data)\n",
    "    train_data.to_pickle(f'train-{name}.pkl')\n",
    "    val_data.to_pickle(f'val-{name}.pkl')\n",
    "    print(\"\\nTrain missing values:\")\n",
    "    missing_info(train_data)\n",
    "    print(\"\\nVal missing values:\")\n",
    "    missing_info(val_data)\n",
    "    del train_data, val_data\n",
    "    print(\"Finished.\")\n",
    "    "
   ]
  },
  {
   "cell_type": "markdown",
   "metadata": {
    "papermill": {
     "duration": 0.009419,
     "end_time": "2022-08-01T19:21:16.915517",
     "exception": false,
     "start_time": "2022-08-01T19:21:16.906098",
     "status": "completed"
    },
    "tags": []
   },
   "source": [
    "## Execution"
   ]
  },
  {
   "cell_type": "code",
   "execution_count": 9,
   "metadata": {
    "execution": {
     "iopub.execute_input": "2022-08-01T19:21:16.937639Z",
     "iopub.status.busy": "2022-08-01T19:21:16.936752Z",
     "iopub.status.idle": "2022-08-01T19:22:40.656742Z",
     "shell.execute_reply": "2022-08-01T19:22:40.657219Z",
     "shell.execute_reply.started": "2022-07-06T15:05:57.668017Z"
    },
    "papermill": {
     "duration": 83.732257,
     "end_time": "2022-08-01T19:22:40.657426",
     "exception": false,
     "start_time": "2022-08-01T19:21:16.925169",
     "status": "completed"
    },
    "tags": []
   },
   "outputs": [
    {
     "name": "stdout",
     "output_type": "stream",
     "text": [
      "Loading data...\n",
      "Data loaded. Working...\n",
      "Imputting...\n",
      "\n",
      "Train missing values:\n",
      "Total N° of NaN:  0\n",
      "N° of columns with NaN:  0\n",
      "\n",
      "Val missing values:\n",
      "Total N° of NaN:  0\n",
      "N° of columns with NaN:  0\n",
      "Finished.\n"
     ]
    }
   ],
   "source": [
    "preprocessing_pipeline('mean', 'mean')"
   ]
  },
  {
   "cell_type": "code",
   "execution_count": 10,
   "metadata": {
    "execution": {
     "iopub.execute_input": "2022-08-01T19:22:40.685033Z",
     "iopub.status.busy": "2022-08-01T19:22:40.684361Z",
     "iopub.status.idle": "2022-08-01T19:24:00.807550Z",
     "shell.execute_reply": "2022-08-01T19:24:00.807954Z",
     "shell.execute_reply.started": "2022-07-06T15:05:58.176982Z"
    },
    "papermill": {
     "duration": 80.138745,
     "end_time": "2022-08-01T19:24:00.808133",
     "exception": false,
     "start_time": "2022-08-01T19:22:40.669388",
     "status": "completed"
    },
    "tags": []
   },
   "outputs": [
    {
     "name": "stdout",
     "output_type": "stream",
     "text": [
      "Loading data...\n",
      "Data loaded. Working...\n",
      "Imputting...\n",
      "\n",
      "Train missing values:\n",
      "Total N° of NaN:  0\n",
      "N° of columns with NaN:  0\n",
      "\n",
      "Val missing values:\n",
      "Total N° of NaN:  0\n",
      "N° of columns with NaN:  0\n",
      "Finished.\n"
     ]
    }
   ],
   "source": [
    "preprocessing_pipeline('ffil', 'ffil')"
   ]
  },
  {
   "cell_type": "code",
   "execution_count": 11,
   "metadata": {
    "execution": {
     "iopub.execute_input": "2022-08-01T19:24:00.840532Z",
     "iopub.status.busy": "2022-08-01T19:24:00.839940Z",
     "iopub.status.idle": "2022-08-01T19:27:06.025832Z",
     "shell.execute_reply": "2022-08-01T19:27:06.025286Z",
     "shell.execute_reply.started": "2022-07-06T15:05:59.921426Z"
    },
    "papermill": {
     "duration": 185.20319,
     "end_time": "2022-08-01T19:27:06.025948",
     "exception": false,
     "start_time": "2022-08-01T19:24:00.822758",
     "status": "completed"
    },
    "tags": []
   },
   "outputs": [
    {
     "name": "stdout",
     "output_type": "stream",
     "text": [
      "Loading data...\n",
      "Data loaded. Working...\n",
      "Imputting...\n",
      "\n",
      "Train missing values:\n",
      "Total N° of NaN:  0\n",
      "N° of columns with NaN:  0\n",
      "\n",
      "Val missing values:\n",
      "Total N° of NaN:  0\n",
      "N° of columns with NaN:  0\n",
      "Finished.\n"
     ]
    }
   ],
   "source": [
    "preprocessing_pipeline('mean', 'mean-indicator', addIndicator=True)"
   ]
  },
  {
   "cell_type": "code",
   "execution_count": 12,
   "metadata": {
    "execution": {
     "iopub.execute_input": "2022-08-01T19:27:06.062477Z",
     "iopub.status.busy": "2022-08-01T19:27:06.061775Z",
     "iopub.status.idle": "2022-08-01T19:30:12.553676Z",
     "shell.execute_reply": "2022-08-01T19:30:12.553002Z",
     "shell.execute_reply.started": "2022-07-06T15:09:15.885923Z"
    },
    "papermill": {
     "duration": 186.511629,
     "end_time": "2022-08-01T19:30:12.553892",
     "exception": false,
     "start_time": "2022-08-01T19:27:06.042263",
     "status": "completed"
    },
    "tags": []
   },
   "outputs": [
    {
     "name": "stdout",
     "output_type": "stream",
     "text": [
      "Loading data...\n",
      "Data loaded. Working...\n",
      "Imputting...\n",
      "\n",
      "Train missing values:\n",
      "Total N° of NaN:  0\n",
      "N° of columns with NaN:  0\n",
      "\n",
      "Val missing values:\n",
      "Total N° of NaN:  0\n",
      "N° of columns with NaN:  0\n",
      "Finished.\n"
     ]
    }
   ],
   "source": [
    "preprocessing_pipeline('ffil', 'ffil-indicator', addIndicator=True)"
   ]
  }
 ],
 "metadata": {
  "kernelspec": {
   "display_name": "Python 3",
   "language": "python",
   "name": "python3"
  },
  "language_info": {
   "codemirror_mode": {
    "name": "ipython",
    "version": 3
   },
   "file_extension": ".py",
   "mimetype": "text/x-python",
   "name": "python",
   "nbconvert_exporter": "python",
   "pygments_lexer": "ipython3",
   "version": "3.7.6"
  },
  "papermill": {
   "duration": 541.874381,
   "end_time": "2022-08-01T19:30:13.618761",
   "environment_variables": {},
   "exception": null,
   "input_path": "__notebook__.ipynb",
   "output_path": "__notebook__.ipynb",
   "parameters": {},
   "start_time": "2022-08-01T19:21:11.744380",
   "version": "2.1.0"
  }
 },
 "nbformat": 4,
 "nbformat_minor": 4
}
